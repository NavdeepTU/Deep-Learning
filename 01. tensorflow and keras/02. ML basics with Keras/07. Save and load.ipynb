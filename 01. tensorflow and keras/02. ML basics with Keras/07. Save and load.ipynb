{
  "nbformat": 4,
  "nbformat_minor": 0,
  "metadata": {
    "colab": {
      "provenance": [],
      "authorship_tag": "ABX9TyPro5nEaUnoFFCp/hPaJTBX",
      "include_colab_link": true
    },
    "kernelspec": {
      "name": "python3",
      "display_name": "Python 3"
    },
    "language_info": {
      "name": "python"
    }
  },
  "cells": [
    {
      "cell_type": "markdown",
      "metadata": {
        "id": "view-in-github",
        "colab_type": "text"
      },
      "source": [
        "<a href=\"https://colab.research.google.com/github/NavdeepTU/Deep-Learning/blob/main/02.%20ML%20basics%20with%20Keras/07.%20Save%20and%20load.ipynb\" target=\"_parent\"><img src=\"https://colab.research.google.com/assets/colab-badge.svg\" alt=\"Open In Colab\"/></a>"
      ]
    },
    {
      "cell_type": "code",
      "execution_count": 1,
      "metadata": {
        "colab": {
          "base_uri": "https://localhost:8080/"
        },
        "id": "I_qMr1wgjg0l",
        "outputId": "1763ffd1-e852-4b89-de3a-f45ea5eedcc0"
      },
      "outputs": [
        {
          "output_type": "stream",
          "name": "stdout",
          "text": [
            "Requirement already satisfied: pyyaml in /usr/local/lib/python3.10/dist-packages (6.0.1)\n",
            "Requirement already satisfied: h5py in /usr/local/lib/python3.10/dist-packages (3.9.0)\n",
            "Requirement already satisfied: numpy>=1.17.3 in /usr/local/lib/python3.10/dist-packages (from h5py) (1.23.5)\n"
          ]
        }
      ],
      "source": [
        "pip install pyyaml h5py # Required to save models in HDF5 format"
      ]
    },
    {
      "cell_type": "code",
      "source": [
        "import os\n",
        "import tensorflow as tf"
      ],
      "metadata": {
        "id": "6XwRHrUqkl4j"
      },
      "execution_count": 2,
      "outputs": []
    },
    {
      "cell_type": "code",
      "source": [
        "# to demonstrate how to save and load weights, we'll use the MNIST dataset.\n",
        "# To speed up these runs, use the first 1000 examples.\n",
        "\n",
        "(train_images, train_labels), (test_images, test_labels) = tf.keras.datasets.mnist.load_data()\n",
        "\n",
        "train_labels = train_labels[:1000]\n",
        "test_labels = test_labels[:1000]\n",
        "\n",
        "train_images = train_images[:1000].reshape(-1, 28 * 28) / 255.0\n",
        "test_images = test_images[:1000].reshape(-1, 28 * 28) / 255.0"
      ],
      "metadata": {
        "id": "6wPfJg7fktmU",
        "colab": {
          "base_uri": "https://localhost:8080/"
        },
        "outputId": "ffa27d8a-7ced-41a1-c3ca-64eacc64369b"
      },
      "execution_count": 3,
      "outputs": [
        {
          "output_type": "stream",
          "name": "stdout",
          "text": [
            "Downloading data from https://storage.googleapis.com/tensorflow/tf-keras-datasets/mnist.npz\n",
            "11490434/11490434 [==============================] - 0s 0us/step\n"
          ]
        }
      ]
    },
    {
      "cell_type": "code",
      "source": [
        "# Define a model\n",
        "\n",
        "# define a simple sequential model\n",
        "def create_model():\n",
        "  model = tf.keras.Sequential([\n",
        "      tf.keras.layers.Dense(512, activation = 'relu', input_shape = (784,)),\n",
        "      tf.keras.layers.Dropout(0.2),\n",
        "      tf.keras.layers.Dense(10)\n",
        "  ])\n",
        "\n",
        "  model.compile(optimizer = 'adam',\n",
        "                loss = tf.keras.losses.SparseCategoricalCrossentropy(from_logits = True),\n",
        "                metrics = [tf.keras.metrics.SparseCategoricalAccuracy()])\n",
        "\n",
        "  return model\n",
        "\n",
        "# Create a basic model instance\n",
        "model = create_model()\n",
        "\n",
        "# Display the model's architecture\n",
        "model.summary()"
      ],
      "metadata": {
        "colab": {
          "base_uri": "https://localhost:8080/"
        },
        "id": "afF_zTaSliUe",
        "outputId": "3a85ccd9-0222-4692-c84c-434b00057aa8"
      },
      "execution_count": 4,
      "outputs": [
        {
          "output_type": "stream",
          "name": "stdout",
          "text": [
            "Model: \"sequential\"\n",
            "_________________________________________________________________\n",
            " Layer (type)                Output Shape              Param #   \n",
            "=================================================================\n",
            " dense (Dense)               (None, 512)               401920    \n",
            "                                                                 \n",
            " dropout (Dropout)           (None, 512)               0         \n",
            "                                                                 \n",
            " dense_1 (Dense)             (None, 10)                5130      \n",
            "                                                                 \n",
            "=================================================================\n",
            "Total params: 407050 (1.55 MB)\n",
            "Trainable params: 407050 (1.55 MB)\n",
            "Non-trainable params: 0 (0.00 Byte)\n",
            "_________________________________________________________________\n"
          ]
        }
      ]
    },
    {
      "cell_type": "code",
      "source": [
        "# Save checkpoints during training\n",
        "\n",
        "# You can use a trained model without having to retrain it,\n",
        "# or pick-up training where you left off in case the training process was interrupted.\n",
        "\n",
        "checkpoint_path = \"training_1/cp.ckpt\"\n",
        "checkpoint_dir = os.path.dirname(checkpoint_path)\n",
        "\n",
        "# create a callback that saves the model's weights\n",
        "cp_callback = tf.keras.callbacks.ModelCheckpoint(filepath = checkpoint_path,\n",
        "                                                 save_weights_only = True,\n",
        "                                                 verbose = 1)\n",
        "\n",
        "# Train the model with new callback\n",
        "model.fit(train_images,\n",
        "          train_labels,\n",
        "          epochs = 10,\n",
        "          validation_data = (test_images, test_labels),\n",
        "          callbacks = [cp_callback]) # Pass callback to training"
      ],
      "metadata": {
        "colab": {
          "base_uri": "https://localhost:8080/"
        },
        "id": "w0tcLSx7oMW_",
        "outputId": "d320630e-02eb-4b0c-8016-b4978c5d34f8"
      },
      "execution_count": 5,
      "outputs": [
        {
          "output_type": "stream",
          "name": "stdout",
          "text": [
            "Epoch 1/10\n",
            "28/32 [=========================>....] - ETA: 0s - loss: 1.2642 - sparse_categorical_accuracy: 0.6373\n",
            "Epoch 1: saving model to training_1/cp.ckpt\n",
            "32/32 [==============================] - 1s 21ms/step - loss: 1.2033 - sparse_categorical_accuracy: 0.6520 - val_loss: 0.7192 - val_sparse_categorical_accuracy: 0.7840\n",
            "Epoch 2/10\n",
            "32/32 [==============================] - ETA: 0s - loss: 0.4370 - sparse_categorical_accuracy: 0.8750\n",
            "Epoch 2: saving model to training_1/cp.ckpt\n",
            "32/32 [==============================] - 0s 13ms/step - loss: 0.4370 - sparse_categorical_accuracy: 0.8750 - val_loss: 0.5445 - val_sparse_categorical_accuracy: 0.8350\n",
            "Epoch 3/10\n",
            "30/32 [===========================>..] - ETA: 0s - loss: 0.2991 - sparse_categorical_accuracy: 0.9167\n",
            "Epoch 3: saving model to training_1/cp.ckpt\n",
            "32/32 [==============================] - 1s 16ms/step - loss: 0.3048 - sparse_categorical_accuracy: 0.9150 - val_loss: 0.5222 - val_sparse_categorical_accuracy: 0.8300\n",
            "Epoch 4/10\n",
            "29/32 [==========================>...] - ETA: 0s - loss: 0.2324 - sparse_categorical_accuracy: 0.9397\n",
            "Epoch 4: saving model to training_1/cp.ckpt\n",
            "32/32 [==============================] - 0s 12ms/step - loss: 0.2267 - sparse_categorical_accuracy: 0.9420 - val_loss: 0.4577 - val_sparse_categorical_accuracy: 0.8510\n",
            "Epoch 5/10\n",
            "29/32 [==========================>...] - ETA: 0s - loss: 0.1617 - sparse_categorical_accuracy: 0.9688\n",
            "Epoch 5: saving model to training_1/cp.ckpt\n",
            "32/32 [==============================] - 0s 12ms/step - loss: 0.1625 - sparse_categorical_accuracy: 0.9680 - val_loss: 0.4175 - val_sparse_categorical_accuracy: 0.8650\n",
            "Epoch 6/10\n",
            "31/32 [============================>.] - ETA: 0s - loss: 0.1259 - sparse_categorical_accuracy: 0.9748\n",
            "Epoch 6: saving model to training_1/cp.ckpt\n",
            "32/32 [==============================] - 0s 13ms/step - loss: 0.1252 - sparse_categorical_accuracy: 0.9750 - val_loss: 0.4196 - val_sparse_categorical_accuracy: 0.8630\n",
            "Epoch 7/10\n",
            "30/32 [===========================>..] - ETA: 0s - loss: 0.0921 - sparse_categorical_accuracy: 0.9833\n",
            "Epoch 7: saving model to training_1/cp.ckpt\n",
            "32/32 [==============================] - 0s 14ms/step - loss: 0.0905 - sparse_categorical_accuracy: 0.9840 - val_loss: 0.4178 - val_sparse_categorical_accuracy: 0.8630\n",
            "Epoch 8/10\n",
            "29/32 [==========================>...] - ETA: 0s - loss: 0.0736 - sparse_categorical_accuracy: 0.9892\n",
            "Epoch 8: saving model to training_1/cp.ckpt\n",
            "32/32 [==============================] - 0s 11ms/step - loss: 0.0728 - sparse_categorical_accuracy: 0.9900 - val_loss: 0.4246 - val_sparse_categorical_accuracy: 0.8640\n",
            "Epoch 9/10\n",
            "30/32 [===========================>..] - ETA: 0s - loss: 0.0536 - sparse_categorical_accuracy: 0.9948\n",
            "Epoch 9: saving model to training_1/cp.ckpt\n",
            "32/32 [==============================] - 0s 13ms/step - loss: 0.0536 - sparse_categorical_accuracy: 0.9940 - val_loss: 0.4026 - val_sparse_categorical_accuracy: 0.8730\n",
            "Epoch 10/10\n",
            "31/32 [============================>.] - ETA: 0s - loss: 0.0452 - sparse_categorical_accuracy: 0.9980\n",
            "Epoch 10: saving model to training_1/cp.ckpt\n",
            "32/32 [==============================] - 0s 13ms/step - loss: 0.0455 - sparse_categorical_accuracy: 0.9980 - val_loss: 0.4164 - val_sparse_categorical_accuracy: 0.8670\n"
          ]
        },
        {
          "output_type": "execute_result",
          "data": {
            "text/plain": [
              "<keras.src.callbacks.History at 0x79cb175010f0>"
            ]
          },
          "metadata": {},
          "execution_count": 5
        }
      ]
    },
    {
      "cell_type": "code",
      "source": [
        "os.listdir(checkpoint_dir)"
      ],
      "metadata": {
        "colab": {
          "base_uri": "https://localhost:8080/"
        },
        "id": "OmX4qmukqW9z",
        "outputId": "74b5a317-86eb-4072-c2f9-43f8423f2f32"
      },
      "execution_count": 6,
      "outputs": [
        {
          "output_type": "execute_result",
          "data": {
            "text/plain": [
              "['cp.ckpt.data-00000-of-00001', 'cp.ckpt.index', 'checkpoint']"
            ]
          },
          "metadata": {},
          "execution_count": 6
        }
      ]
    },
    {
      "cell_type": "code",
      "source": [
        "# Create a basic model instance\n",
        "model = create_model()\n",
        "\n",
        "# Evaluate the model\n",
        "loss, acc = model.evaluate(test_images, test_labels, verbose = 2)\n",
        "print(\"Untrained model accuracy: {:5.2f}%\".format(100 * acc))"
      ],
      "metadata": {
        "colab": {
          "base_uri": "https://localhost:8080/"
        },
        "id": "iCFLJ0J5qlyE",
        "outputId": "94189294-dccd-43e4-fda9-2c6d890b6778"
      },
      "execution_count": 7,
      "outputs": [
        {
          "output_type": "stream",
          "name": "stdout",
          "text": [
            "32/32 - 0s - loss: 2.3425 - sparse_categorical_accuracy: 0.0920 - 264ms/epoch - 8ms/step\n",
            "Untrained model accuracy:  9.20%\n"
          ]
        }
      ]
    },
    {
      "cell_type": "code",
      "source": [
        "# Load the weights\n",
        "model.load_weights(checkpoint_path)\n",
        "\n",
        "# Re-evaluate the model\n",
        "loss, acc = model.evaluate(test_images, test_labels, verbose = 2)\n",
        "print(\"Restored model, accuracy: {:5.2f}%\".format(100 * acc))"
      ],
      "metadata": {
        "colab": {
          "base_uri": "https://localhost:8080/"
        },
        "id": "E8g0vzlNr6ae",
        "outputId": "48a9c13f-c0ca-47e2-fa75-7b3107a8ab6a"
      },
      "execution_count": 8,
      "outputs": [
        {
          "output_type": "stream",
          "name": "stdout",
          "text": [
            "32/32 - 0s - loss: 0.4164 - sparse_categorical_accuracy: 0.8670 - 95ms/epoch - 3ms/step\n",
            "Restored model, accuracy: 86.70%\n"
          ]
        }
      ]
    },
    {
      "cell_type": "code",
      "source": [
        "# Checkpoint callback options\n",
        "# Train a new model, and save uniquely named checkpoints once every five epochs\n",
        "\n",
        "# Include the epoch in the file name (uses `str.format`)\n",
        "checkpoint_path = \"training_2/cp-{epoch:04d}.ckpt\"\n",
        "checkpoint_dir = os.path.dirname(checkpoint_path)\n",
        "\n",
        "batch_size = 32\n",
        "\n",
        "# Calculate the number of batches per epoch\n",
        "import math\n",
        "n_batches = len(train_images) / batch_size\n",
        "n_batches = math.ceil(n_batches)\n",
        "\n",
        "# create a callback that saves the model's weights every 5 epochs\n",
        "cp_callback = tf.keras.callbacks.ModelCheckpoint(\n",
        "    filepath = checkpoint_path,\n",
        "    verbose = 1,\n",
        "    save_weights_only = True,\n",
        "    save_freq = 5*n_batches\n",
        ")\n",
        "\n",
        "# create a new model instance\n",
        "model = create_model()\n",
        "\n",
        "# save the weights using the `checkpoint_path` format\n",
        "model.save_weights(checkpoint_path.format(epoch = 0))\n",
        "\n",
        "# train the model with new callback\n",
        "model.fit(train_images,\n",
        "          train_labels,\n",
        "          epochs = 50,\n",
        "          batch_size = batch_size,\n",
        "          callbacks = [cp_callback],\n",
        "          validation_data = (test_images, test_labels),\n",
        "          verbose = 0)"
      ],
      "metadata": {
        "id": "uhteMzmusbuZ",
        "outputId": "ab288d3b-f8f1-46d4-e62e-630aa6983073",
        "colab": {
          "base_uri": "https://localhost:8080/"
        }
      },
      "execution_count": 9,
      "outputs": [
        {
          "output_type": "stream",
          "name": "stdout",
          "text": [
            "\n",
            "Epoch 5: saving model to training_2/cp-0005.ckpt\n",
            "\n",
            "Epoch 10: saving model to training_2/cp-0010.ckpt\n",
            "\n",
            "Epoch 15: saving model to training_2/cp-0015.ckpt\n",
            "\n",
            "Epoch 20: saving model to training_2/cp-0020.ckpt\n",
            "\n",
            "Epoch 25: saving model to training_2/cp-0025.ckpt\n",
            "\n",
            "Epoch 30: saving model to training_2/cp-0030.ckpt\n",
            "\n",
            "Epoch 35: saving model to training_2/cp-0035.ckpt\n",
            "\n",
            "Epoch 40: saving model to training_2/cp-0040.ckpt\n",
            "\n",
            "Epoch 45: saving model to training_2/cp-0045.ckpt\n",
            "\n",
            "Epoch 50: saving model to training_2/cp-0050.ckpt\n"
          ]
        },
        {
          "output_type": "execute_result",
          "data": {
            "text/plain": [
              "<keras.src.callbacks.History at 0x79cb14ea29e0>"
            ]
          },
          "metadata": {},
          "execution_count": 9
        }
      ]
    },
    {
      "cell_type": "code",
      "source": [
        "# Now, review the resulting checkpoints and choose the latest one\n",
        "os.listdir(checkpoint_dir)"
      ],
      "metadata": {
        "id": "qaEKtJI9n4hl",
        "outputId": "66fdfac5-7708-47e1-ec6c-a0c0630964c6",
        "colab": {
          "base_uri": "https://localhost:8080/"
        }
      },
      "execution_count": 10,
      "outputs": [
        {
          "output_type": "execute_result",
          "data": {
            "text/plain": [
              "['cp-0020.ckpt.data-00000-of-00001',\n",
              " 'cp-0035.ckpt.data-00000-of-00001',\n",
              " 'cp-0030.ckpt.data-00000-of-00001',\n",
              " 'cp-0005.ckpt.index',\n",
              " 'cp-0035.ckpt.index',\n",
              " 'cp-0025.ckpt.index',\n",
              " 'cp-0050.ckpt.data-00000-of-00001',\n",
              " 'cp-0040.ckpt.data-00000-of-00001',\n",
              " 'cp-0045.ckpt.index',\n",
              " 'cp-0040.ckpt.index',\n",
              " 'cp-0015.ckpt.index',\n",
              " 'cp-0020.ckpt.index',\n",
              " 'cp-0025.ckpt.data-00000-of-00001',\n",
              " 'cp-0000.ckpt.data-00000-of-00001',\n",
              " 'cp-0045.ckpt.data-00000-of-00001',\n",
              " 'cp-0010.ckpt.data-00000-of-00001',\n",
              " 'cp-0000.ckpt.index',\n",
              " 'cp-0030.ckpt.index',\n",
              " 'cp-0050.ckpt.index',\n",
              " 'cp-0005.ckpt.data-00000-of-00001',\n",
              " 'cp-0010.ckpt.index',\n",
              " 'cp-0015.ckpt.data-00000-of-00001',\n",
              " 'checkpoint']"
            ]
          },
          "metadata": {},
          "execution_count": 10
        }
      ]
    },
    {
      "cell_type": "code",
      "source": [
        "latest = tf.train.latest_checkpoint(checkpoint_dir)\n",
        "latest"
      ],
      "metadata": {
        "id": "ZXsKomncoRbL",
        "outputId": "cb49b6a0-d58c-4330-ad0d-9735cd1740f7",
        "colab": {
          "base_uri": "https://localhost:8080/",
          "height": 36
        }
      },
      "execution_count": 11,
      "outputs": [
        {
          "output_type": "execute_result",
          "data": {
            "text/plain": [
              "'training_2/cp-0050.ckpt'"
            ],
            "application/vnd.google.colaboratory.intrinsic+json": {
              "type": "string"
            }
          },
          "metadata": {},
          "execution_count": 11
        }
      ]
    },
    {
      "cell_type": "code",
      "source": [
        "# test, reset the model, and load the latest checkpoint\n",
        "\n",
        "# create a new model instance\n",
        "model = create_model()\n",
        "\n",
        "# load the previously saved weights\n",
        "model.load_weights(latest)\n",
        "\n",
        "# re-evaluate the model\n",
        "loss, acc = model.evaluate(test_images, test_labels, verbose = 2)\n",
        "print(\"Restored model, accuracy: {:5.2f}%\".format(100 * acc))"
      ],
      "metadata": {
        "id": "mFvLKFjeomNF",
        "outputId": "ee484400-bc1d-474a-8de1-8324c9e28c0a",
        "colab": {
          "base_uri": "https://localhost:8080/"
        }
      },
      "execution_count": 12,
      "outputs": [
        {
          "output_type": "stream",
          "name": "stdout",
          "text": [
            "32/32 - 0s - loss: 0.4717 - sparse_categorical_accuracy: 0.8780 - 188ms/epoch - 6ms/step\n",
            "Restored model, accuracy: 87.80%\n"
          ]
        }
      ]
    },
    {
      "cell_type": "code",
      "source": [
        "# manually save weights\n",
        "\n",
        "# Save the weights\n",
        "model.save_weights('./checkpoints/my_checkpoint')\n",
        "\n",
        "# create a new model instance\n",
        "model = create_model()\n",
        "\n",
        "# restore the weights\n",
        "model.load_weights('./checkpoints/my_checkpoint')\n",
        "\n",
        "# evaluate the model\n",
        "loss, acc = model.evaluate(test_images, test_labels, verbose = 2)\n",
        "print('Restored model, accuracy: {:5.2f}%'.format(100 * acc))"
      ],
      "metadata": {
        "id": "JYysIdWNp8Bi",
        "outputId": "45f983a8-2087-44f6-d60e-a6ad903d50be",
        "colab": {
          "base_uri": "https://localhost:8080/"
        }
      },
      "execution_count": 13,
      "outputs": [
        {
          "output_type": "stream",
          "name": "stderr",
          "text": [
            "WARNING:tensorflow:Detecting that an object or model or tf.train.Checkpoint is being deleted with unrestored values. See the following logs for the specific values in question. To silence these warnings, use `status.expect_partial()`. See https://www.tensorflow.org/api_docs/python/tf/train/Checkpoint#restorefor details about the status object returned by the restore function.\n",
            "WARNING:tensorflow:Value in checkpoint could not be found in the restored object: (root).optimizer._variables.1\n",
            "WARNING:tensorflow:Value in checkpoint could not be found in the restored object: (root).optimizer._variables.2\n",
            "WARNING:tensorflow:Value in checkpoint could not be found in the restored object: (root).optimizer._variables.3\n",
            "WARNING:tensorflow:Value in checkpoint could not be found in the restored object: (root).optimizer._variables.4\n",
            "WARNING:tensorflow:Value in checkpoint could not be found in the restored object: (root).optimizer._variables.5\n",
            "WARNING:tensorflow:Value in checkpoint could not be found in the restored object: (root).optimizer._variables.6\n",
            "WARNING:tensorflow:Value in checkpoint could not be found in the restored object: (root).optimizer._variables.7\n",
            "WARNING:tensorflow:Value in checkpoint could not be found in the restored object: (root).optimizer._variables.8\n"
          ]
        },
        {
          "output_type": "stream",
          "name": "stdout",
          "text": [
            "32/32 - 0s - loss: 0.4717 - sparse_categorical_accuracy: 0.8780 - 225ms/epoch - 7ms/step\n",
            "Restored model, accuracy: 87.80%\n"
          ]
        }
      ]
    },
    {
      "cell_type": "code",
      "source": [
        "# Save the entire model\n",
        "\n",
        "# new high level .keras format\n",
        "\n",
        "# create and train a new model instance\n",
        "model = create_model()\n",
        "model.fit(train_images, train_labels, epochs = 5)\n",
        "\n",
        "# save the entire model as a '.keras' zip archive.\n",
        "model.save('my_model.keras')"
      ],
      "metadata": {
        "id": "Av05ySraCpDo",
        "outputId": "37c6a53e-58a9-4683-d00e-016c3b919cd1",
        "colab": {
          "base_uri": "https://localhost:8080/"
        }
      },
      "execution_count": 14,
      "outputs": [
        {
          "output_type": "stream",
          "name": "stdout",
          "text": [
            "Epoch 1/5\n",
            "32/32 [==============================] - 1s 7ms/step - loss: 1.1457 - sparse_categorical_accuracy: 0.6840\n",
            "Epoch 2/5\n",
            "32/32 [==============================] - 0s 8ms/step - loss: 0.4139 - sparse_categorical_accuracy: 0.8800\n",
            "Epoch 3/5\n",
            "32/32 [==============================] - 0s 8ms/step - loss: 0.2780 - sparse_categorical_accuracy: 0.9320\n",
            "Epoch 4/5\n",
            "32/32 [==============================] - 0s 7ms/step - loss: 0.2176 - sparse_categorical_accuracy: 0.9460\n",
            "Epoch 5/5\n",
            "32/32 [==============================] - 0s 8ms/step - loss: 0.1461 - sparse_categorical_accuracy: 0.9640\n"
          ]
        }
      ]
    },
    {
      "cell_type": "code",
      "source": [
        "new_model = tf.keras.models.load_model('my_model.keras')\n",
        "\n",
        "# show the model architecture\n",
        "new_model.summary()"
      ],
      "metadata": {
        "id": "-XiMItdyERrm",
        "outputId": "b2a48883-a8eb-4a5a-e1a1-9a6c0cdf62ef",
        "colab": {
          "base_uri": "https://localhost:8080/"
        }
      },
      "execution_count": 15,
      "outputs": [
        {
          "output_type": "stream",
          "name": "stdout",
          "text": [
            "Model: \"sequential_5\"\n",
            "_________________________________________________________________\n",
            " Layer (type)                Output Shape              Param #   \n",
            "=================================================================\n",
            " dense_10 (Dense)            (None, 512)               401920    \n",
            "                                                                 \n",
            " dropout_5 (Dropout)         (None, 512)               0         \n",
            "                                                                 \n",
            " dense_11 (Dense)            (None, 10)                5130      \n",
            "                                                                 \n",
            "=================================================================\n",
            "Total params: 407050 (1.55 MB)\n",
            "Trainable params: 407050 (1.55 MB)\n",
            "Non-trainable params: 0 (0.00 Byte)\n",
            "_________________________________________________________________\n"
          ]
        }
      ]
    },
    {
      "cell_type": "code",
      "source": [
        "# evaluate the stored model\n",
        "loss, acc = new_model.evaluate(test_images, test_labels, verbose = 2)\n",
        "print('Restored model, accuracy: {:5.2f}%'.format(100 * acc))\n",
        "\n",
        "print(new_model.predict(test_images).shape)"
      ],
      "metadata": {
        "id": "qBAwOhzLEpLm",
        "outputId": "2816cac8-c012-4e3b-a8bc-3e9becd3e41a",
        "colab": {
          "base_uri": "https://localhost:8080/"
        }
      },
      "execution_count": 16,
      "outputs": [
        {
          "output_type": "stream",
          "name": "stdout",
          "text": [
            "32/32 - 0s - loss: 0.4145 - sparse_categorical_accuracy: 0.8690 - 204ms/epoch - 6ms/step\n",
            "Restored model, accuracy: 86.90%\n",
            "32/32 [==============================] - 0s 4ms/step\n",
            "(1000, 10)\n"
          ]
        }
      ]
    },
    {
      "cell_type": "code",
      "source": [
        "# SavedModel format\n",
        "\n",
        "# create and train a new model instance.\n",
        "model = create_model()\n",
        "model.fit(train_images, train_labels, epochs = 5)\n",
        "\n",
        "# save the entire model as SavedModel\n",
        "!mkdir -p saved_model\n",
        "model.save('saved_model/my_model')"
      ],
      "metadata": {
        "id": "HfS2hST6FULN",
        "colab": {
          "base_uri": "https://localhost:8080/"
        },
        "outputId": "e29fd873-17f7-410b-9f74-e6d5ce0ba080"
      },
      "execution_count": 17,
      "outputs": [
        {
          "output_type": "stream",
          "name": "stdout",
          "text": [
            "Epoch 1/5\n",
            "32/32 [==============================] - 1s 10ms/step - loss: 1.1432 - sparse_categorical_accuracy: 0.6770\n",
            "Epoch 2/5\n",
            "32/32 [==============================] - 0s 11ms/step - loss: 0.4337 - sparse_categorical_accuracy: 0.8760\n",
            "Epoch 3/5\n",
            "32/32 [==============================] - 0s 8ms/step - loss: 0.2948 - sparse_categorical_accuracy: 0.9210\n",
            "Epoch 4/5\n",
            "32/32 [==============================] - 0s 8ms/step - loss: 0.2113 - sparse_categorical_accuracy: 0.9540\n",
            "Epoch 5/5\n",
            "32/32 [==============================] - 0s 8ms/step - loss: 0.1599 - sparse_categorical_accuracy: 0.9630\n"
          ]
        }
      ]
    },
    {
      "cell_type": "code",
      "source": [
        "# my_model directory\n",
        "# ls saved_model\n",
        "\n",
        "# contains an assets folder, save_model.pb, and variables folder.\n",
        "# s saved_model/my_model"
      ],
      "metadata": {
        "id": "hAM9Z2dwCBaH"
      },
      "execution_count": 19,
      "outputs": []
    },
    {
      "cell_type": "code",
      "source": [
        "new_model = tf.keras.models.load_model('saved_model/my_model')\n",
        "\n",
        "# check its architecture\n",
        "new_model.summary()"
      ],
      "metadata": {
        "colab": {
          "base_uri": "https://localhost:8080/"
        },
        "id": "fD8ksaOVCkix",
        "outputId": "4c8cde1c-5d25-41e4-e605-05c12e2b498e"
      },
      "execution_count": 20,
      "outputs": [
        {
          "output_type": "stream",
          "name": "stdout",
          "text": [
            "Model: \"sequential_6\"\n",
            "_________________________________________________________________\n",
            " Layer (type)                Output Shape              Param #   \n",
            "=================================================================\n",
            " dense_12 (Dense)            (None, 512)               401920    \n",
            "                                                                 \n",
            " dropout_6 (Dropout)         (None, 512)               0         \n",
            "                                                                 \n",
            " dense_13 (Dense)            (None, 10)                5130      \n",
            "                                                                 \n",
            "=================================================================\n",
            "Total params: 407050 (1.55 MB)\n",
            "Trainable params: 407050 (1.55 MB)\n",
            "Non-trainable params: 0 (0.00 Byte)\n",
            "_________________________________________________________________\n"
          ]
        }
      ]
    },
    {
      "cell_type": "code",
      "source": [
        "# evaluate the restored model\n",
        "loss, acc = new_model.evaluate(test_images, test_labels, verbose = 2)\n",
        "print('Restored model, accuracy: (:5.2f)%'.format(100 * acc))\n",
        "\n",
        "print(new_model.predict(test_images).shape)"
      ],
      "metadata": {
        "colab": {
          "base_uri": "https://localhost:8080/"
        },
        "id": "HqI6qGlYDPvc",
        "outputId": "91db2382-d941-4f24-923b-241c063c1a3f"
      },
      "execution_count": 22,
      "outputs": [
        {
          "output_type": "stream",
          "name": "stdout",
          "text": [
            "32/32 - 0s - loss: 0.4237 - sparse_categorical_accuracy: 0.8580 - 192ms/epoch - 6ms/step\n",
            "Restored model, accuracy: (:5.2f)%\n",
            "32/32 [==============================] - 0s 3ms/step\n",
            "(1000, 10)\n"
          ]
        }
      ]
    },
    {
      "cell_type": "code",
      "source": [
        "# HDF5 format\n",
        "\n",
        "# create and train a new model instance\n",
        "model = create_model()\n",
        "model.fit(train_images, train_labels, epochs = 5)\n",
        "\n",
        "# save the entire model to a HDF5 file.\n",
        "# the '.h5' extension indicates that the model should be saved to HDF5.\n",
        "model.save('my_model.h5')"
      ],
      "metadata": {
        "colab": {
          "base_uri": "https://localhost:8080/"
        },
        "id": "yTyEgt-WD33S",
        "outputId": "1bd179f5-0274-4a11-9606-b6746949f013"
      },
      "execution_count": 27,
      "outputs": [
        {
          "output_type": "stream",
          "name": "stdout",
          "text": [
            "Epoch 1/5\n",
            "32/32 [==============================] - 1s 8ms/step - loss: 1.1799 - sparse_categorical_accuracy: 0.6520\n",
            "Epoch 2/5\n",
            "32/32 [==============================] - 0s 8ms/step - loss: 0.4319 - sparse_categorical_accuracy: 0.8710\n",
            "Epoch 3/5\n",
            "32/32 [==============================] - 0s 8ms/step - loss: 0.3027 - sparse_categorical_accuracy: 0.9160\n",
            "Epoch 4/5\n",
            "32/32 [==============================] - 0s 8ms/step - loss: 0.2164 - sparse_categorical_accuracy: 0.9460\n",
            "Epoch 5/5\n",
            "32/32 [==============================] - 0s 7ms/step - loss: 0.1541 - sparse_categorical_accuracy: 0.9650\n"
          ]
        },
        {
          "output_type": "stream",
          "name": "stderr",
          "text": [
            "/usr/local/lib/python3.10/dist-packages/keras/src/engine/training.py:3079: UserWarning: You are saving your model as an HDF5 file via `model.save()`. This file format is considered legacy. We recommend using instead the native Keras format, e.g. `model.save('my_model.keras')`.\n",
            "  saving_api.save_model(\n"
          ]
        }
      ]
    },
    {
      "cell_type": "code",
      "source": [
        "# recreate the same model, including its weights and the optimizer\n",
        "new_model = tf.keras.models.load_model('my_model.h5')\n",
        "\n",
        "# show the model architecture\n",
        "new_model.summary()"
      ],
      "metadata": {
        "colab": {
          "base_uri": "https://localhost:8080/"
        },
        "id": "m2MQOreqENmW",
        "outputId": "568f67cb-175d-44da-8349-a8cc86a0913d"
      },
      "execution_count": 28,
      "outputs": [
        {
          "output_type": "stream",
          "name": "stdout",
          "text": [
            "Model: \"sequential_7\"\n",
            "_________________________________________________________________\n",
            " Layer (type)                Output Shape              Param #   \n",
            "=================================================================\n",
            " dense_14 (Dense)            (None, 512)               401920    \n",
            "                                                                 \n",
            " dropout_7 (Dropout)         (None, 512)               0         \n",
            "                                                                 \n",
            " dense_15 (Dense)            (None, 10)                5130      \n",
            "                                                                 \n",
            "=================================================================\n",
            "Total params: 407050 (1.55 MB)\n",
            "Trainable params: 407050 (1.55 MB)\n",
            "Non-trainable params: 0 (0.00 Byte)\n",
            "_________________________________________________________________\n"
          ]
        }
      ]
    },
    {
      "cell_type": "code",
      "source": [
        "# check its accuracy\n",
        "loss, acc = new_model.evaluate(test_images, test_labels, verbose = 2)\n",
        "print('Restored model, accuracy: {:5.2f}%'.format(100 * acc))"
      ],
      "metadata": {
        "colab": {
          "base_uri": "https://localhost:8080/"
        },
        "id": "e0ZVIaszFuFZ",
        "outputId": "d68ecfa3-c463-4ec2-bbaa-44a6489eeffc"
      },
      "execution_count": 29,
      "outputs": [
        {
          "output_type": "stream",
          "name": "stdout",
          "text": [
            "32/32 - 0s - loss: 0.4237 - sparse_categorical_accuracy: 0.8670 - 495ms/epoch - 15ms/step\n",
            "Restored model, accuracy: 86.70%\n"
          ]
        }
      ]
    },
    {
      "cell_type": "code",
      "source": [],
      "metadata": {
        "id": "w6-0S3cVIEwi"
      },
      "execution_count": null,
      "outputs": []
    }
  ]
}