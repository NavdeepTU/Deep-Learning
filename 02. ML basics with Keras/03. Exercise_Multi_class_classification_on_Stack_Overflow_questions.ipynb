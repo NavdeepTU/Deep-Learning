{
  "nbformat": 4,
  "nbformat_minor": 0,
  "metadata": {
    "colab": {
      "provenance": [],
      "authorship_tag": "ABX9TyO8QwGv+vzFCbAvn3sv3M2k",
      "include_colab_link": true
    },
    "kernelspec": {
      "name": "python3",
      "display_name": "Python 3"
    },
    "language_info": {
      "name": "python"
    }
  },
  "cells": [
    {
      "cell_type": "markdown",
      "metadata": {
        "id": "view-in-github",
        "colab_type": "text"
      },
      "source": [
        "<a href=\"https://colab.research.google.com/github/NavdeepTU/Deep-Learning/blob/main/02.%20ML%20basics%20with%20Keras/03.%20Exercise_Multi_class_classification_on_Stack_Overflow_questions.ipynb\" target=\"_parent\"><img src=\"https://colab.research.google.com/assets/colab-badge.svg\" alt=\"Open In Colab\"/></a>"
      ]
    },
    {
      "cell_type": "markdown",
      "source": [
        "Predict the tag of a programming question on Stack Overflow"
      ],
      "metadata": {
        "id": "YlG7BBxndBtK"
      }
    },
    {
      "cell_type": "code",
      "source": [
        "import matplotlib.pyplot as plt\n",
        "import os\n",
        "import re\n",
        "import shutil\n",
        "import string\n",
        "import tensorflow as tf"
      ],
      "metadata": {
        "id": "yHvkGsludK8L"
      },
      "execution_count": null,
      "outputs": []
    },
    {
      "cell_type": "code",
      "source": [
        "url = 'https://storage.googleapis.com/download.tensorflow.org/data/stack_overflow_16k.tar.gz'\n",
        "dataset = tf.keras.utils.get_file('stack_overflow_16k', url, untar = True, cache_dir='.', cache_subdir='')\n",
        "dataset_dir = os.path.dirname(dataset)"
      ],
      "metadata": {
        "id": "lkAy7MOWdpYq"
      },
      "execution_count": 9,
      "outputs": []
    },
    {
      "cell_type": "code",
      "source": [
        "os.listdir(dataset_dir)"
      ],
      "metadata": {
        "colab": {
          "base_uri": "https://localhost:8080/"
        },
        "id": "09c9BxjHe9Qu",
        "outputId": "ea7a5596-7034-484b-e3ec-c1c9e1b01451"
      },
      "execution_count": 10,
      "outputs": [
        {
          "output_type": "execute_result",
          "data": {
            "text/plain": [
              "['.config',\n",
              " 'stack_overflow_16k.tar.gz',\n",
              " 'test',\n",
              " 'train',\n",
              " 'README.md',\n",
              " 'sample_data']"
            ]
          },
          "metadata": {},
          "execution_count": 10
        }
      ]
    },
    {
      "cell_type": "code",
      "source": [
        "train_dir = os.path.join(dataset_dir, 'train')\n",
        "os.listdir(train_dir)"
      ],
      "metadata": {
        "id": "wN1p8mUvgEjs",
        "colab": {
          "base_uri": "https://localhost:8080/"
        },
        "outputId": "516859dc-e5b4-48b5-8fb4-020c2b1bcd6c"
      },
      "execution_count": 11,
      "outputs": [
        {
          "output_type": "execute_result",
          "data": {
            "text/plain": [
              "['java', 'javascript', 'csharp', 'python']"
            ]
          },
          "metadata": {},
          "execution_count": 11
        }
      ]
    },
    {
      "cell_type": "code",
      "source": [
        "sample_file = os.path.join(train_dir, 'python/30.txt')\n",
        "with open(sample_file) as f:\n",
        "  print(f.read())"
      ],
      "metadata": {
        "colab": {
          "base_uri": "https://localhost:8080/"
        },
        "id": "tYW1tCPmich2",
        "outputId": "f40a1b2b-edc0-42f2-b5e7-78ffcdb49deb"
      },
      "execution_count": 12,
      "outputs": [
        {
          "output_type": "stream",
          "name": "stdout",
          "text": [
            "\"blank script trigger a method in another script i have two scripts say script1.py on pc1 and script2.py on pc2. now, script1.py has two methods as shown below. the method1() on pc1 must be completed before method2() on pc2 can be executed. so, how can i trigger method2() of script2.py on pc2 which is already running?..i can split script2.py into two different .py files i.e method1.py and method2.py on pc2 and call method2.py after script1_method2() on pc1 has finished but then i need to pass the foo object to it. maybe i can pickle the foo object and read it from a file?..is there a better way to go about this?..note: i can communicate between pc1 and pc2 using paramiko ssh.. def script1_method1():.    \"\"\"\"\"\".    this is on pc1.    get connection from pc2 script 2 and do some work.    \"\"\"\"\"\".    pass..def script1_method2():.    \"\"\"\"\"\".    this is on pc1.    work which needs some time.    only after this work is done, call pc2 script2.    \"\"\"\"\"\".    pass..def script2_method1():.    \"\"\"\"\"\".    this is on pc2.    create an object 'foo' which connects to pc1 script1.    return object 'foo' to main.    \"\"\"\"\"\".    pass....def script2_method2(foo):.    \"\"\"\"\"\".    this is on pc2.    get object 'foo' and do some work with it.    \"\"\"\"\"\".    pass\"\n",
            "\n"
          ]
        }
      ]
    },
    {
      "cell_type": "markdown",
      "source": [
        "Load the dataset"
      ],
      "metadata": {
        "id": "Lclbs8vejWk6"
      }
    },
    {
      "cell_type": "code",
      "source": [
        "batch_size = 32\n",
        "seed = 42\n",
        "\n",
        "raw_train_ds = tf.keras.utils.text_dataset_from_directory(\n",
        "    'train',\n",
        "    batch_size = batch_size,\n",
        "    validation_split = 0.2,\n",
        "    subset = 'training',\n",
        "    seed = seed\n",
        ")"
      ],
      "metadata": {
        "colab": {
          "base_uri": "https://localhost:8080/"
        },
        "id": "1uxXoOGajYv_",
        "outputId": "d6325d13-9fc8-4c2a-9b8d-8d6ab6a889ba"
      },
      "execution_count": 13,
      "outputs": [
        {
          "output_type": "stream",
          "name": "stdout",
          "text": [
            "Found 8000 files belonging to 4 classes.\n",
            "Using 6400 files for training.\n"
          ]
        }
      ]
    },
    {
      "cell_type": "code",
      "source": [
        "for text_batch, label_batch in raw_train_ds.take(1):  # taking only 1 batch\n",
        "  for i in range(3):\n",
        "    print('Question : ', text_batch.numpy()[i])\n",
        "    print('Label : ', label_batch.numpy()[i])"
      ],
      "metadata": {
        "colab": {
          "base_uri": "https://localhost:8080/"
        },
        "id": "utQuPMNIkQYV",
        "outputId": "3d1aa068-96e4-4386-eb37-0445fe1d02ac"
      },
      "execution_count": 16,
      "outputs": [
        {
          "output_type": "stream",
          "name": "stdout",
          "text": [
            "Question :  b'\"unit testing of setters and getters teacher wanted us to do a comprehensive unit test. for me, this will be the first time that i use junit. i am confused about testing set and get methods. do you think should i test them? if the answer is yes; is this code enough for testing?..  public void testsetandget(){.    int a = 10;.    class firstclass = new class();.    firstclass.setvalue(10);.    int value = firstclass.getvalue();.    assert.asserttrue(\"\"error\"\", value==a);.  }...in my code, i think if there is an error, we can\\'t know that the error is deriving because of setter or getter.\"\\n'\n",
            "Label :  1\n",
            "Question :  b'\"static class, static constructors and static properties i have a static class that has only static properties and a static constructor. when i try to access or set the value of property (with a backing field) the static constructor is not called. however, if i define a static method and try to call it the constructor is executed...i believe properties are just syntactical sugar and are internally translated as methods. so why does the runtime treats them differently? my class define is given below:..edit: i have removed the code where i was initializing the value of _fileencodingtext inline...edit: the constructor is called but the property is not set. this is probably because \"\"a static constructor runs exactly zero or one times, and runs before a static method call or instance creation in its type\"\". igor ostrovsky and eric lippert have explained it in their blogs...http://blogs.msdn.com/b/pfxteam/archive/2011/05/03/10159682.aspx.http://ericlippert.com/2013/01/31/the-no-lock-deadlock/..internal static class appsettings.{.    static appsettings().    {.        fileencodingtext = \"\"utf8\"\";.    }..private static string _fileencodingtext;.public static string fileencodingtext.{.    get { return _fileencodingtext; }.    set.    {.        string oldvalue = _fileencodingtext;.        _fileencodingtext = value;..        try.        {.            fileencoding = encoding.getencoding(value);.        }.        catch (system.exception).        {.            _fileencodingtext = oldvalue;.            fileencoding = encoding.utf8;.        }.    }.}..public static encoding fileencoding { get; private set; }...}\"\\n'\n",
            "Label :  0\n",
            "Question :  b'\"is there anyway for switch case statement to do count only the value less than assigned? sorry if the title is misleading, but i don\\'t know how to put my question in words. take a look at the code below. when i run it, if i enter any value between 100 and 109, it will show me \"\"hd-10\"\", but i only want mark == 100 to get hd-10, and anything above 100 will show invalid. any tips?..ps i did import scanner from blank.util, just don\\'t know why it\\'s not showing up in the code below...thanks in advance for the help!..public class gradecase_testresults.{.    public static void main(string [] args).    {.        float total;.        int mark;.        scanner sc = new scanner(system.in);..        system.out.println(\"\"please enter the student\\'s mark\"\");.        total = sc.nextint ();..        mark = (int)total / 10;..        switch(mark).        {.            case 1: case 2:case 3:case 4:.                system.out.println(\"\"f-\"\" + mark);.                break;.            case 5:.                system.out.println(\"\"p-5\"\");.                break;.            case 6:.                system.out.println(\"\"c-6\"\");.                break;.            case 7:.                system.out.println(\"\"d-7\"\");.                break;.            case 8:.                system.out.println(\"\"hd-8\"\");.                break;.            case 9:.                system.out.println(\"\"hd-9\"\");.                break;.            case 10: .                system.out.println(\"\"hd-10\"\");.                break;.            default:.                system.out.println(\"\"invalid\"\");.                break;.        }.    }.}\"\\n'\n",
            "Label :  1\n"
          ]
        }
      ]
    },
    {
      "cell_type": "code",
      "source": [
        "print('Label 0 corresponds to ', raw_train_ds.class_names[0])\n",
        "print('Label 1 corresponds to ', raw_train_ds.class_names[1])\n",
        "print('Label 2 corresponds to ', raw_train_ds.class_names[2])\n",
        "print('Label 3 corresponds to ', raw_train_ds.class_names[3])"
      ],
      "metadata": {
        "colab": {
          "base_uri": "https://localhost:8080/"
        },
        "id": "Al7tNTn3lOd6",
        "outputId": "5e04387a-d0a5-4efc-f37c-74cb7081cf82"
      },
      "execution_count": 17,
      "outputs": [
        {
          "output_type": "stream",
          "name": "stdout",
          "text": [
            "Label 0 corresponds to  csharp\n",
            "Label 1 corresponds to  java\n",
            "Label 2 corresponds to  javascript\n",
            "Label 3 corresponds to  python\n"
          ]
        }
      ]
    },
    {
      "cell_type": "code",
      "source": [
        "raw_val_ds = tf.keras.utils.text_dataset_from_directory(\n",
        "    'train',\n",
        "    batch_size = batch_size,\n",
        "    validation_split = 0.2,\n",
        "    subset = 'validation',\n",
        "    seed = seed\n",
        ")"
      ],
      "metadata": {
        "colab": {
          "base_uri": "https://localhost:8080/"
        },
        "id": "X0l0UMXxq70Q",
        "outputId": "cc347ff8-7fa7-4ecb-b873-5369051f672a"
      },
      "execution_count": 18,
      "outputs": [
        {
          "output_type": "stream",
          "name": "stdout",
          "text": [
            "Found 8000 files belonging to 4 classes.\n",
            "Using 1600 files for validation.\n"
          ]
        }
      ]
    },
    {
      "cell_type": "code",
      "source": [
        "raw_test_ds = tf.keras.utils.text_dataset_from_directory(\n",
        "    'test',\n",
        "    batch_size = batch_size\n",
        ")"
      ],
      "metadata": {
        "colab": {
          "base_uri": "https://localhost:8080/"
        },
        "id": "niRSFh-MrfZ4",
        "outputId": "abcb4733-eba5-4983-8425-4fb3e042046b"
      },
      "execution_count": 19,
      "outputs": [
        {
          "output_type": "stream",
          "name": "stdout",
          "text": [
            "Found 8000 files belonging to 4 classes.\n"
          ]
        }
      ]
    },
    {
      "cell_type": "code",
      "source": [],
      "metadata": {
        "id": "9pi_Uilgr0zK"
      },
      "execution_count": null,
      "outputs": []
    }
  ]
}