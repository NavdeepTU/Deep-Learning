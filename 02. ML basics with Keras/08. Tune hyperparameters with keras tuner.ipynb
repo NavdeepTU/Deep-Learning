{
  "nbformat": 4,
  "nbformat_minor": 0,
  "metadata": {
    "colab": {
      "provenance": [],
      "authorship_tag": "ABX9TyPBS7JeDnG0t6+7p8ADeYsV",
      "include_colab_link": true
    },
    "kernelspec": {
      "name": "python3",
      "display_name": "Python 3"
    },
    "language_info": {
      "name": "python"
    }
  },
  "cells": [
    {
      "cell_type": "markdown",
      "metadata": {
        "id": "view-in-github",
        "colab_type": "text"
      },
      "source": [
        "<a href=\"https://colab.research.google.com/github/NavdeepTU/Deep-Learning/blob/main/02.%20ML%20basics%20with%20Keras/08.%20Tune%20hyperparameters%20with%20keras%20tuner.ipynb\" target=\"_parent\"><img src=\"https://colab.research.google.com/assets/colab-badge.svg\" alt=\"Open In Colab\"/></a>"
      ]
    },
    {
      "cell_type": "code",
      "execution_count": 1,
      "metadata": {
        "id": "6eCNSEiwTlUd"
      },
      "outputs": [],
      "source": [
        "import tensorflow as tf"
      ]
    },
    {
      "cell_type": "code",
      "source": [
        "# install and import the keras tuner\n",
        "!pip install -q -U keras-tuner"
      ],
      "metadata": {
        "colab": {
          "base_uri": "https://localhost:8080/"
        },
        "id": "ROshUvKoT0e0",
        "outputId": "6c564175-d55f-481a-8a06-ee643cd1e6ff"
      },
      "execution_count": 2,
      "outputs": [
        {
          "output_type": "stream",
          "name": "stdout",
          "text": [
            "\u001b[?25l     \u001b[90m━━━━━━━━━━━━━━━━━━━━━━━━━━━━━━━━━━━━━━━━\u001b[0m \u001b[32m0.0/128.9 kB\u001b[0m \u001b[31m?\u001b[0m eta \u001b[36m-:--:--\u001b[0m\r\u001b[2K     \u001b[91m━━━━━━━━━━━━━━━━━━━━━━━━━━━━━━━━━━━━━━\u001b[0m\u001b[90m╺\u001b[0m\u001b[90m━\u001b[0m \u001b[32m122.9/128.9 kB\u001b[0m \u001b[31m3.9 MB/s\u001b[0m eta \u001b[36m0:00:01\u001b[0m\r\u001b[2K     \u001b[90m━━━━━━━━━━━━━━━━━━━━━━━━━━━━━━━━━━━━━━━━\u001b[0m \u001b[32m128.9/128.9 kB\u001b[0m \u001b[31m3.2 MB/s\u001b[0m eta \u001b[36m0:00:00\u001b[0m\n",
            "\u001b[?25h"
          ]
        }
      ]
    },
    {
      "cell_type": "code",
      "source": [
        "import keras_tuner as kt"
      ],
      "metadata": {
        "id": "07s8MTKPT_wa"
      },
      "execution_count": 3,
      "outputs": []
    },
    {
      "cell_type": "code",
      "source": [
        "# download and prepare the dataset\n",
        "(img_train, label_train), (img_test, label_test) = tf.keras.datasets.fashion_mnist.load_data()"
      ],
      "metadata": {
        "colab": {
          "base_uri": "https://localhost:8080/"
        },
        "id": "PTmhoM6YUNrf",
        "outputId": "f16a1b16-fe74-45e7-c93e-014e94d38afb"
      },
      "execution_count": 4,
      "outputs": [
        {
          "output_type": "stream",
          "name": "stdout",
          "text": [
            "Downloading data from https://storage.googleapis.com/tensorflow/tf-keras-datasets/train-labels-idx1-ubyte.gz\n",
            "29515/29515 [==============================] - 0s 0us/step\n",
            "Downloading data from https://storage.googleapis.com/tensorflow/tf-keras-datasets/train-images-idx3-ubyte.gz\n",
            "26421880/26421880 [==============================] - 0s 0us/step\n",
            "Downloading data from https://storage.googleapis.com/tensorflow/tf-keras-datasets/t10k-labels-idx1-ubyte.gz\n",
            "5148/5148 [==============================] - 0s 0us/step\n",
            "Downloading data from https://storage.googleapis.com/tensorflow/tf-keras-datasets/t10k-images-idx3-ubyte.gz\n",
            "4422102/4422102 [==============================] - 0s 0us/step\n"
          ]
        }
      ]
    },
    {
      "cell_type": "code",
      "source": [
        "# normalize pixel values between 0 and 1\n",
        "img_train = img_train.astype('float32') / 255.0\n",
        "img_test = img_test.astype('float32') / 255.0"
      ],
      "metadata": {
        "id": "EvQttiyrUvG6"
      },
      "execution_count": 5,
      "outputs": []
    },
    {
      "cell_type": "code",
      "source": [
        "# Define the model\n",
        "\n",
        "def model_builder(hp):\n",
        "  model = tf.keras.Sequential()\n",
        "  model.add(tf.keras.layers.Flatten(input_shape = (28, 28)))\n",
        "\n",
        "  # tune the number of units in the first Dense layer\n",
        "  # choose an optimal value between 32 - 512\n",
        "  hp_units = hp.Int('units', min_value = 32, max_value = 512, step = 32)\n",
        "  model.add(tf.keras.layers.Dense(units = hp_units, activation = 'relu'))\n",
        "  model.add(tf.keras.layers.Dense(10))\n",
        "\n",
        "  # tune the learning rate for the optimizer\n",
        "  # choose an optimal value from 0.01, 0.001, or 0.0001\n",
        "  hp_learning_rate = hp.Choice('learning_rate', values = [1e-2, 1e-3, 1e-4])\n",
        "\n",
        "  model.compile(\n",
        "      optimizer = tf.keras.optimizers.Adam(learning_rate = hp_learning_rate),\n",
        "      loss = tf.keras.losses.SparseCategoricalCrossentropy(from_logits = True),\n",
        "      metrics = ['accuracy']\n",
        "  )\n",
        "\n",
        "  return model"
      ],
      "metadata": {
        "id": "WSNUZX4ZVIMW"
      },
      "execution_count": 6,
      "outputs": []
    },
    {
      "cell_type": "code",
      "source": [
        "# instantiate the tuner and perform hypertuning\n",
        "\n",
        "tuner = kt.Hyperband(model_builder,\n",
        "                     objective = 'val_accuracy',\n",
        "                     max_epochs=10,\n",
        "                     factor=3,\n",
        "                     directory='my_dir',\n",
        "                     project_name='intro_to_kt')"
      ],
      "metadata": {
        "id": "CyoMQc1MVFGB"
      },
      "execution_count": 7,
      "outputs": []
    },
    {
      "cell_type": "code",
      "source": [
        "# create a callback to stop training early after reaching a certain value for\n",
        "# the validation loss\n",
        "\n",
        "stop_early = tf.keras.callbacks.EarlyStopping(monitor='val_loss', patience=5)"
      ],
      "metadata": {
        "id": "1zLJ2fYS5sDQ"
      },
      "execution_count": 8,
      "outputs": []
    },
    {
      "cell_type": "code",
      "source": [
        "# run the hyperparameter search\n",
        "\n",
        "tuner.search(img_train, label_train, epochs=50, validation_split=0.2, callbacks=[stop_early])\n",
        "\n",
        "# get the optimal hyperparameters\n",
        "best_hps = tuner.get_best_hyperparameters(num_trials=1)[0]\n",
        "\n",
        "print(f'\\\n",
        "The hyperparameter search is complete. The optimal number of units in the first densely-connected \\\n",
        "layer is {best_hps.get(\"units\")} and the optimal learning rate for the optimizer is \\\n",
        "{best_hps.get(\"learning_rate\")}.')"
      ],
      "metadata": {
        "colab": {
          "base_uri": "https://localhost:8080/"
        },
        "id": "-7yGelh-7Jem",
        "outputId": "ea8f67c9-540f-40e9-c501-0fac2c116158"
      },
      "execution_count": 9,
      "outputs": [
        {
          "output_type": "stream",
          "name": "stdout",
          "text": [
            "Trial 30 Complete [00h 01m 23s]\n",
            "val_accuracy: 0.8663333058357239\n",
            "\n",
            "Best val_accuracy So Far: 0.8918333053588867\n",
            "Total elapsed time: 00h 19m 19s\n",
            "The hyperparameter search is complete. The optimal number of units in the first densely-connected layer is 128 and the optimal learning rate for the optimizer is 0.001.\n"
          ]
        }
      ]
    },
    {
      "cell_type": "code",
      "source": [
        "# train the model\n",
        "# build the model with optimal hyperparameters and train it on the data for 50 epochs\n",
        "\n",
        "model = tuner.hypermodel.build(best_hps)\n",
        "history = model.fit(img_train, label_train, epochs=50, validation_split=0.2)\n",
        "\n",
        "val_acc_per_epoch = history.history['val_accuracy']\n",
        "best_epoch = val_acc_per_epoch.index(max(val_acc_per_epoch)) + 1\n",
        "print('Best epoch: %d' % (best_epoch, ))"
      ],
      "metadata": {
        "colab": {
          "base_uri": "https://localhost:8080/"
        },
        "id": "JnJh31Xu8bpg",
        "outputId": "3b879811-a000-4898-b940-58ce5bf37fde"
      },
      "execution_count": 10,
      "outputs": [
        {
          "output_type": "stream",
          "name": "stdout",
          "text": [
            "Epoch 1/50\n",
            "1500/1500 [==============================] - 6s 4ms/step - loss: 0.5173 - accuracy: 0.8186 - val_loss: 0.4130 - val_accuracy: 0.8533\n",
            "Epoch 2/50\n",
            "1500/1500 [==============================] - 8s 5ms/step - loss: 0.3892 - accuracy: 0.8606 - val_loss: 0.3701 - val_accuracy: 0.8692\n",
            "Epoch 3/50\n",
            "1500/1500 [==============================] - 6s 4ms/step - loss: 0.3472 - accuracy: 0.8739 - val_loss: 0.3516 - val_accuracy: 0.8714\n",
            "Epoch 4/50\n",
            "1500/1500 [==============================] - 8s 5ms/step - loss: 0.3200 - accuracy: 0.8830 - val_loss: 0.3400 - val_accuracy: 0.8770\n",
            "Epoch 5/50\n",
            "1500/1500 [==============================] - 6s 4ms/step - loss: 0.3034 - accuracy: 0.8882 - val_loss: 0.3412 - val_accuracy: 0.8762\n",
            "Epoch 6/50\n",
            "1500/1500 [==============================] - 7s 5ms/step - loss: 0.2869 - accuracy: 0.8937 - val_loss: 0.3296 - val_accuracy: 0.8809\n",
            "Epoch 7/50\n",
            "1500/1500 [==============================] - 6s 4ms/step - loss: 0.2746 - accuracy: 0.8976 - val_loss: 0.3271 - val_accuracy: 0.8825\n",
            "Epoch 8/50\n",
            "1500/1500 [==============================] - 6s 4ms/step - loss: 0.2634 - accuracy: 0.9012 - val_loss: 0.3350 - val_accuracy: 0.8822\n",
            "Epoch 9/50\n",
            "1500/1500 [==============================] - 7s 5ms/step - loss: 0.2536 - accuracy: 0.9052 - val_loss: 0.3314 - val_accuracy: 0.8834\n",
            "Epoch 10/50\n",
            "1500/1500 [==============================] - 6s 4ms/step - loss: 0.2428 - accuracy: 0.9093 - val_loss: 0.3545 - val_accuracy: 0.8733\n",
            "Epoch 11/50\n",
            "1500/1500 [==============================] - 8s 5ms/step - loss: 0.2344 - accuracy: 0.9121 - val_loss: 0.3126 - val_accuracy: 0.8889\n",
            "Epoch 12/50\n",
            "1500/1500 [==============================] - 12s 8ms/step - loss: 0.2269 - accuracy: 0.9150 - val_loss: 0.3223 - val_accuracy: 0.8893\n",
            "Epoch 13/50\n",
            "1500/1500 [==============================] - 7s 5ms/step - loss: 0.2189 - accuracy: 0.9187 - val_loss: 0.3215 - val_accuracy: 0.8882\n",
            "Epoch 14/50\n",
            "1500/1500 [==============================] - 12s 8ms/step - loss: 0.2109 - accuracy: 0.9214 - val_loss: 0.3355 - val_accuracy: 0.8880\n",
            "Epoch 15/50\n",
            "1500/1500 [==============================] - 10s 7ms/step - loss: 0.2061 - accuracy: 0.9231 - val_loss: 0.3344 - val_accuracy: 0.8857\n",
            "Epoch 16/50\n",
            "1500/1500 [==============================] - 6s 4ms/step - loss: 0.1996 - accuracy: 0.9257 - val_loss: 0.3287 - val_accuracy: 0.8898\n",
            "Epoch 17/50\n",
            "1500/1500 [==============================] - 7s 5ms/step - loss: 0.1920 - accuracy: 0.9290 - val_loss: 0.3342 - val_accuracy: 0.8901\n",
            "Epoch 18/50\n",
            "1500/1500 [==============================] - 6s 4ms/step - loss: 0.1883 - accuracy: 0.9297 - val_loss: 0.3551 - val_accuracy: 0.8813\n",
            "Epoch 19/50\n",
            "1500/1500 [==============================] - 7s 4ms/step - loss: 0.1817 - accuracy: 0.9314 - val_loss: 0.3332 - val_accuracy: 0.8908\n",
            "Epoch 20/50\n",
            "1500/1500 [==============================] - 7s 5ms/step - loss: 0.1774 - accuracy: 0.9336 - val_loss: 0.3855 - val_accuracy: 0.8781\n",
            "Epoch 21/50\n",
            "1500/1500 [==============================] - 6s 4ms/step - loss: 0.1720 - accuracy: 0.9355 - val_loss: 0.3676 - val_accuracy: 0.8882\n",
            "Epoch 22/50\n",
            "1500/1500 [==============================] - 8s 5ms/step - loss: 0.1695 - accuracy: 0.9365 - val_loss: 0.3618 - val_accuracy: 0.8880\n",
            "Epoch 23/50\n",
            "1500/1500 [==============================] - 6s 4ms/step - loss: 0.1644 - accuracy: 0.9383 - val_loss: 0.3689 - val_accuracy: 0.8859\n",
            "Epoch 24/50\n",
            "1500/1500 [==============================] - 8s 5ms/step - loss: 0.1616 - accuracy: 0.9391 - val_loss: 0.3728 - val_accuracy: 0.8855\n",
            "Epoch 25/50\n",
            "1500/1500 [==============================] - 6s 4ms/step - loss: 0.1560 - accuracy: 0.9417 - val_loss: 0.3591 - val_accuracy: 0.8903\n",
            "Epoch 26/50\n",
            "1500/1500 [==============================] - 8s 5ms/step - loss: 0.1499 - accuracy: 0.9443 - val_loss: 0.3567 - val_accuracy: 0.8926\n",
            "Epoch 27/50\n",
            "1500/1500 [==============================] - 10s 7ms/step - loss: 0.1495 - accuracy: 0.9431 - val_loss: 0.3751 - val_accuracy: 0.8931\n",
            "Epoch 28/50\n",
            "1500/1500 [==============================] - 11s 7ms/step - loss: 0.1447 - accuracy: 0.9454 - val_loss: 0.3629 - val_accuracy: 0.8921\n",
            "Epoch 29/50\n",
            "1500/1500 [==============================] - 11s 7ms/step - loss: 0.1404 - accuracy: 0.9466 - val_loss: 0.3735 - val_accuracy: 0.8927\n",
            "Epoch 30/50\n",
            "1500/1500 [==============================] - 9s 6ms/step - loss: 0.1378 - accuracy: 0.9489 - val_loss: 0.4014 - val_accuracy: 0.8827\n",
            "Epoch 31/50\n",
            "1500/1500 [==============================] - 8s 6ms/step - loss: 0.1348 - accuracy: 0.9487 - val_loss: 0.3980 - val_accuracy: 0.8892\n",
            "Epoch 32/50\n",
            "1500/1500 [==============================] - 11s 7ms/step - loss: 0.1304 - accuracy: 0.9521 - val_loss: 0.4151 - val_accuracy: 0.8820\n",
            "Epoch 33/50\n",
            "1500/1500 [==============================] - 10s 6ms/step - loss: 0.1285 - accuracy: 0.9526 - val_loss: 0.4091 - val_accuracy: 0.8890\n",
            "Epoch 34/50\n",
            "1500/1500 [==============================] - 10s 7ms/step - loss: 0.1269 - accuracy: 0.9520 - val_loss: 0.4027 - val_accuracy: 0.8859\n",
            "Epoch 35/50\n",
            "1500/1500 [==============================] - 8s 5ms/step - loss: 0.1235 - accuracy: 0.9536 - val_loss: 0.4095 - val_accuracy: 0.8910\n",
            "Epoch 36/50\n",
            "1500/1500 [==============================] - 7s 5ms/step - loss: 0.1228 - accuracy: 0.9544 - val_loss: 0.4172 - val_accuracy: 0.8928\n",
            "Epoch 37/50\n",
            "1500/1500 [==============================] - 11s 7ms/step - loss: 0.1184 - accuracy: 0.9560 - val_loss: 0.4344 - val_accuracy: 0.8888\n",
            "Epoch 38/50\n",
            "1500/1500 [==============================] - 11s 8ms/step - loss: 0.1162 - accuracy: 0.9569 - val_loss: 0.4285 - val_accuracy: 0.8899\n",
            "Epoch 39/50\n",
            "1500/1500 [==============================] - 9s 6ms/step - loss: 0.1132 - accuracy: 0.9593 - val_loss: 0.4268 - val_accuracy: 0.8907\n",
            "Epoch 40/50\n",
            "1500/1500 [==============================] - 9s 6ms/step - loss: 0.1116 - accuracy: 0.9582 - val_loss: 0.4361 - val_accuracy: 0.8845\n",
            "Epoch 41/50\n",
            "1500/1500 [==============================] - 9s 6ms/step - loss: 0.1091 - accuracy: 0.9595 - val_loss: 0.4509 - val_accuracy: 0.8861\n",
            "Epoch 42/50\n",
            "1500/1500 [==============================] - 9s 6ms/step - loss: 0.1057 - accuracy: 0.9600 - val_loss: 0.4653 - val_accuracy: 0.8891\n",
            "Epoch 43/50\n",
            "1500/1500 [==============================] - 10s 7ms/step - loss: 0.1046 - accuracy: 0.9601 - val_loss: 0.4488 - val_accuracy: 0.8859\n",
            "Epoch 44/50\n",
            "1500/1500 [==============================] - 6s 4ms/step - loss: 0.0989 - accuracy: 0.9628 - val_loss: 0.4876 - val_accuracy: 0.8850\n",
            "Epoch 45/50\n",
            "1500/1500 [==============================] - 8s 5ms/step - loss: 0.0993 - accuracy: 0.9631 - val_loss: 0.4559 - val_accuracy: 0.8930\n",
            "Epoch 46/50\n",
            "1500/1500 [==============================] - 6s 4ms/step - loss: 0.0987 - accuracy: 0.9637 - val_loss: 0.4778 - val_accuracy: 0.8887\n",
            "Epoch 47/50\n",
            "1500/1500 [==============================] - 8s 6ms/step - loss: 0.0963 - accuracy: 0.9645 - val_loss: 0.4925 - val_accuracy: 0.8842\n",
            "Epoch 48/50\n",
            "1500/1500 [==============================] - 6s 4ms/step - loss: 0.0934 - accuracy: 0.9653 - val_loss: 0.4861 - val_accuracy: 0.8873\n",
            "Epoch 49/50\n",
            "1500/1500 [==============================] - 8s 5ms/step - loss: 0.0929 - accuracy: 0.9653 - val_loss: 0.5077 - val_accuracy: 0.8810\n",
            "Epoch 50/50\n",
            "1500/1500 [==============================] - 6s 4ms/step - loss: 0.0912 - accuracy: 0.9660 - val_loss: 0.5146 - val_accuracy: 0.8867\n",
            "Best epoch: 27\n"
          ]
        }
      ]
    },
    {
      "cell_type": "code",
      "source": [
        "# re-instantiate the hypermodel and train it with the optimal number of epochs from above.\n",
        "\n",
        "hypermodel = tuner.hypermodel.build(best_hps)\n",
        "\n",
        "# retrain the model\n",
        "hypermodel.fit(img_train, label_train, epochs = best_epoch, validation_split=0.2)"
      ],
      "metadata": {
        "colab": {
          "base_uri": "https://localhost:8080/"
        },
        "id": "E-KAe25zvb8w",
        "outputId": "9b08cdd6-c430-4e44-8cb7-e165dd9cadd1"
      },
      "execution_count": 11,
      "outputs": [
        {
          "output_type": "stream",
          "name": "stdout",
          "text": [
            "Epoch 1/27\n",
            "1500/1500 [==============================] - 9s 5ms/step - loss: 0.5208 - accuracy: 0.8158 - val_loss: 0.4311 - val_accuracy: 0.8478\n",
            "Epoch 2/27\n",
            "1500/1500 [==============================] - 6s 4ms/step - loss: 0.3898 - accuracy: 0.8607 - val_loss: 0.4050 - val_accuracy: 0.8528\n",
            "Epoch 3/27\n",
            "1500/1500 [==============================] - 8s 5ms/step - loss: 0.3475 - accuracy: 0.8741 - val_loss: 0.3428 - val_accuracy: 0.8742\n",
            "Epoch 4/27\n",
            "1500/1500 [==============================] - 6s 4ms/step - loss: 0.3211 - accuracy: 0.8828 - val_loss: 0.3502 - val_accuracy: 0.8723\n",
            "Epoch 5/27\n",
            "1500/1500 [==============================] - 8s 5ms/step - loss: 0.3026 - accuracy: 0.8892 - val_loss: 0.3508 - val_accuracy: 0.8716\n",
            "Epoch 6/27\n",
            "1500/1500 [==============================] - 7s 5ms/step - loss: 0.2873 - accuracy: 0.8952 - val_loss: 0.3317 - val_accuracy: 0.8805\n",
            "Epoch 7/27\n",
            "1500/1500 [==============================] - 8s 5ms/step - loss: 0.2738 - accuracy: 0.8980 - val_loss: 0.3252 - val_accuracy: 0.8861\n",
            "Epoch 8/27\n",
            "1500/1500 [==============================] - 6s 4ms/step - loss: 0.2642 - accuracy: 0.9014 - val_loss: 0.3220 - val_accuracy: 0.8863\n",
            "Epoch 9/27\n",
            "1500/1500 [==============================] - 8s 5ms/step - loss: 0.2527 - accuracy: 0.9047 - val_loss: 0.3139 - val_accuracy: 0.8886\n",
            "Epoch 10/27\n",
            "1500/1500 [==============================] - 6s 4ms/step - loss: 0.2435 - accuracy: 0.9099 - val_loss: 0.3219 - val_accuracy: 0.8862\n",
            "Epoch 11/27\n",
            "1500/1500 [==============================] - 7s 5ms/step - loss: 0.2365 - accuracy: 0.9118 - val_loss: 0.3206 - val_accuracy: 0.8867\n",
            "Epoch 12/27\n",
            "1500/1500 [==============================] - 6s 4ms/step - loss: 0.2256 - accuracy: 0.9148 - val_loss: 0.3285 - val_accuracy: 0.8867\n",
            "Epoch 13/27\n",
            "1500/1500 [==============================] - 7s 5ms/step - loss: 0.2191 - accuracy: 0.9171 - val_loss: 0.3194 - val_accuracy: 0.8838\n",
            "Epoch 14/27\n",
            "1500/1500 [==============================] - 7s 5ms/step - loss: 0.2122 - accuracy: 0.9204 - val_loss: 0.3213 - val_accuracy: 0.8889\n",
            "Epoch 15/27\n",
            "1500/1500 [==============================] - 6s 4ms/step - loss: 0.2072 - accuracy: 0.9214 - val_loss: 0.3360 - val_accuracy: 0.8859\n",
            "Epoch 16/27\n",
            "1500/1500 [==============================] - 7s 5ms/step - loss: 0.2018 - accuracy: 0.9239 - val_loss: 0.3369 - val_accuracy: 0.8881\n",
            "Epoch 17/27\n",
            "1500/1500 [==============================] - 6s 4ms/step - loss: 0.1937 - accuracy: 0.9271 - val_loss: 0.3477 - val_accuracy: 0.8832\n",
            "Epoch 18/27\n",
            "1500/1500 [==============================] - 8s 5ms/step - loss: 0.1893 - accuracy: 0.9289 - val_loss: 0.3497 - val_accuracy: 0.8863\n",
            "Epoch 19/27\n",
            "1500/1500 [==============================] - 6s 4ms/step - loss: 0.1851 - accuracy: 0.9306 - val_loss: 0.3347 - val_accuracy: 0.8907\n",
            "Epoch 20/27\n",
            "1500/1500 [==============================] - 8s 5ms/step - loss: 0.1780 - accuracy: 0.9334 - val_loss: 0.3403 - val_accuracy: 0.8890\n",
            "Epoch 21/27\n",
            "1500/1500 [==============================] - 6s 4ms/step - loss: 0.1758 - accuracy: 0.9343 - val_loss: 0.3469 - val_accuracy: 0.8915\n",
            "Epoch 22/27\n",
            "1500/1500 [==============================] - 8s 5ms/step - loss: 0.1671 - accuracy: 0.9366 - val_loss: 0.3430 - val_accuracy: 0.8918\n",
            "Epoch 23/27\n",
            "1500/1500 [==============================] - 6s 4ms/step - loss: 0.1647 - accuracy: 0.9394 - val_loss: 0.3796 - val_accuracy: 0.8892\n",
            "Epoch 24/27\n",
            "1500/1500 [==============================] - 8s 5ms/step - loss: 0.1625 - accuracy: 0.9397 - val_loss: 0.3471 - val_accuracy: 0.8897\n",
            "Epoch 25/27\n",
            "1500/1500 [==============================] - 6s 4ms/step - loss: 0.1558 - accuracy: 0.9411 - val_loss: 0.3521 - val_accuracy: 0.8882\n",
            "Epoch 26/27\n",
            "1500/1500 [==============================] - 8s 5ms/step - loss: 0.1518 - accuracy: 0.9426 - val_loss: 0.3570 - val_accuracy: 0.8899\n",
            "Epoch 27/27\n",
            "1500/1500 [==============================] - 6s 4ms/step - loss: 0.1469 - accuracy: 0.9447 - val_loss: 0.3538 - val_accuracy: 0.8931\n"
          ]
        },
        {
          "output_type": "execute_result",
          "data": {
            "text/plain": [
              "<keras.src.callbacks.History at 0x7cb5c9fb2c20>"
            ]
          },
          "metadata": {},
          "execution_count": 11
        }
      ]
    },
    {
      "cell_type": "code",
      "source": [
        "eval_result = hypermodel.evaluate(img_test, label_test)\n",
        "print('[test loss, test accuracy]:', eval_result)"
      ],
      "metadata": {
        "colab": {
          "base_uri": "https://localhost:8080/"
        },
        "id": "k_pEPj0Qwepf",
        "outputId": "512fbe3b-609c-4d42-9da1-4a4780481ec5"
      },
      "execution_count": 12,
      "outputs": [
        {
          "output_type": "stream",
          "name": "stdout",
          "text": [
            "313/313 [==============================] - 1s 3ms/step - loss: 0.3980 - accuracy: 0.8875\n",
            "[test loss, test accuracy]: [0.3980485200881958, 0.887499988079071]\n"
          ]
        }
      ]
    },
    {
      "cell_type": "code",
      "source": [],
      "metadata": {
        "id": "Q3YRnu0ux073"
      },
      "execution_count": null,
      "outputs": []
    }
  ]
}