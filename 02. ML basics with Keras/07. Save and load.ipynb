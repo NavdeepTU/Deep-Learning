{
  "nbformat": 4,
  "nbformat_minor": 0,
  "metadata": {
    "colab": {
      "provenance": [],
      "authorship_tag": "ABX9TyNATOy+Bq8oye/HdisCMgBK",
      "include_colab_link": true
    },
    "kernelspec": {
      "name": "python3",
      "display_name": "Python 3"
    },
    "language_info": {
      "name": "python"
    }
  },
  "cells": [
    {
      "cell_type": "markdown",
      "metadata": {
        "id": "view-in-github",
        "colab_type": "text"
      },
      "source": [
        "<a href=\"https://colab.research.google.com/github/NavdeepTU/Deep-Learning/blob/main/02.%20ML%20basics%20with%20Keras/07.%20Save%20and%20load.ipynb\" target=\"_parent\"><img src=\"https://colab.research.google.com/assets/colab-badge.svg\" alt=\"Open In Colab\"/></a>"
      ]
    },
    {
      "cell_type": "code",
      "execution_count": 1,
      "metadata": {
        "colab": {
          "base_uri": "https://localhost:8080/"
        },
        "id": "I_qMr1wgjg0l",
        "outputId": "697b4354-8775-4cf5-8de6-73979b1a5283"
      },
      "outputs": [
        {
          "output_type": "stream",
          "name": "stdout",
          "text": [
            "Requirement already satisfied: pyyaml in /usr/local/lib/python3.10/dist-packages (6.0.1)\n",
            "Requirement already satisfied: h5py in /usr/local/lib/python3.10/dist-packages (3.9.0)\n",
            "Requirement already satisfied: numpy>=1.17.3 in /usr/local/lib/python3.10/dist-packages (from h5py) (1.23.5)\n"
          ]
        }
      ],
      "source": [
        "pip install pyyaml h5py # Required to save models in HDF5 format"
      ]
    },
    {
      "cell_type": "code",
      "source": [
        "import os\n",
        "import tensorflow as tf"
      ],
      "metadata": {
        "id": "6XwRHrUqkl4j"
      },
      "execution_count": 2,
      "outputs": []
    },
    {
      "cell_type": "code",
      "source": [
        "# to demonstrate how to save and load weights, we'll use the MNIST dataset.\n",
        "# To speed up these runs, use the first 1000 examples.\n",
        "\n",
        "(train_images, train_labels), (test_images, test_labels) = tf.keras.datasets.mnist.load_data()\n",
        "\n",
        "train_labels = train_labels[:1000]\n",
        "test_labels = test_labels[:1000]\n",
        "\n",
        "train_images = train_images[:1000].reshape(-1, 28 * 28) / 255.0\n",
        "test_images = test_images[:1000].reshape(-1, 28 * 28) / 255.0"
      ],
      "metadata": {
        "id": "6wPfJg7fktmU"
      },
      "execution_count": 6,
      "outputs": []
    },
    {
      "cell_type": "code",
      "source": [
        "# Define a model\n",
        "\n",
        "# define a simple sequential model\n",
        "def create_model():\n",
        "  model = tf.keras.Sequential([\n",
        "      tf.keras.layers.Dense(512, activation = 'relu', input_shape = (784,)),\n",
        "      tf.keras.layers.Dropout(0.2),\n",
        "      tf.keras.layers.Dense(10)\n",
        "  ])\n",
        "\n",
        "  model.compile(optimizer = 'adam',\n",
        "                loss = tf.keras.losses.SparseCategoricalCrossentropy(from_logits = True),\n",
        "                metrics = [tf.keras.metrics.SparseCategoricalAccuracy()])\n",
        "\n",
        "  return model\n",
        "\n",
        "# Create a basic model instance\n",
        "model = create_model()\n",
        "\n",
        "# Display the model's architecture\n",
        "model.summary()"
      ],
      "metadata": {
        "colab": {
          "base_uri": "https://localhost:8080/"
        },
        "id": "afF_zTaSliUe",
        "outputId": "158e3ab6-86c2-4a0b-feb7-70dbab4ed3de"
      },
      "execution_count": 8,
      "outputs": [
        {
          "output_type": "stream",
          "name": "stdout",
          "text": [
            "Model: \"sequential\"\n",
            "_________________________________________________________________\n",
            " Layer (type)                Output Shape              Param #   \n",
            "=================================================================\n",
            " dense (Dense)               (None, 512)               401920    \n",
            "                                                                 \n",
            " dropout (Dropout)           (None, 512)               0         \n",
            "                                                                 \n",
            " dense_1 (Dense)             (None, 10)                5130      \n",
            "                                                                 \n",
            "=================================================================\n",
            "Total params: 407050 (1.55 MB)\n",
            "Trainable params: 407050 (1.55 MB)\n",
            "Non-trainable params: 0 (0.00 Byte)\n",
            "_________________________________________________________________\n"
          ]
        }
      ]
    },
    {
      "cell_type": "code",
      "source": [
        "# Save checkpoints during training\n",
        "\n",
        "# You can use a trained model without having to retrain it,\n",
        "# or pick-up training where you left off in case the training process was interrupted.\n",
        "\n",
        "checkpoint_path = \"training_1/cp.ckpt\"\n",
        "checkpoint_dir = os.path.dirname(checkpoint_path)\n",
        "\n",
        "# create a callback that saves the model's weights\n",
        "cp_callback = tf.keras.callbacks.ModelCheckpoint(filepath = checkpoint_path,\n",
        "                                                 save_weights_only = True,\n",
        "                                                 verbose = 1)\n",
        "\n",
        "# Train the model with new callback\n",
        "model.fit(train_images,\n",
        "          train_labels,\n",
        "          epochs = 10,\n",
        "          validation_data = (test_images, test_labels),\n",
        "          callbacks = [cp_callback]) # Pass callback to training"
      ],
      "metadata": {
        "colab": {
          "base_uri": "https://localhost:8080/"
        },
        "id": "w0tcLSx7oMW_",
        "outputId": "8631d90e-7505-4d49-d94a-31994cea98d3"
      },
      "execution_count": 9,
      "outputs": [
        {
          "output_type": "stream",
          "name": "stdout",
          "text": [
            "Epoch 1/10\n",
            "28/32 [=========================>....] - ETA: 0s - loss: 1.2599 - sparse_categorical_accuracy: 0.6317\n",
            "Epoch 1: saving model to training_1/cp.ckpt\n",
            "32/32 [==============================] - 2s 28ms/step - loss: 1.1917 - sparse_categorical_accuracy: 0.6530 - val_loss: 0.7035 - val_sparse_categorical_accuracy: 0.7980\n",
            "Epoch 2/10\n",
            "27/32 [========================>.....] - ETA: 0s - loss: 0.4073 - sparse_categorical_accuracy: 0.8866\n",
            "Epoch 2: saving model to training_1/cp.ckpt\n",
            "32/32 [==============================] - 1s 17ms/step - loss: 0.4116 - sparse_categorical_accuracy: 0.8820 - val_loss: 0.5332 - val_sparse_categorical_accuracy: 0.8330\n",
            "Epoch 3/10\n",
            "28/32 [=========================>....] - ETA: 0s - loss: 0.2938 - sparse_categorical_accuracy: 0.9230\n",
            "Epoch 3: saving model to training_1/cp.ckpt\n",
            "32/32 [==============================] - 1s 17ms/step - loss: 0.2872 - sparse_categorical_accuracy: 0.9250 - val_loss: 0.4942 - val_sparse_categorical_accuracy: 0.8410\n",
            "Epoch 4/10\n",
            "31/32 [============================>.] - ETA: 0s - loss: 0.2092 - sparse_categorical_accuracy: 0.9526\n",
            "Epoch 4: saving model to training_1/cp.ckpt\n",
            "32/32 [==============================] - 1s 18ms/step - loss: 0.2085 - sparse_categorical_accuracy: 0.9530 - val_loss: 0.4643 - val_sparse_categorical_accuracy: 0.8540\n",
            "Epoch 5/10\n",
            "31/32 [============================>.] - ETA: 0s - loss: 0.1395 - sparse_categorical_accuracy: 0.9758\n",
            "Epoch 5: saving model to training_1/cp.ckpt\n",
            "32/32 [==============================] - 1s 18ms/step - loss: 0.1392 - sparse_categorical_accuracy: 0.9750 - val_loss: 0.4552 - val_sparse_categorical_accuracy: 0.8580\n",
            "Epoch 6/10\n",
            "31/32 [============================>.] - ETA: 0s - loss: 0.1205 - sparse_categorical_accuracy: 0.9758\n",
            "Epoch 6: saving model to training_1/cp.ckpt\n",
            "32/32 [==============================] - 1s 18ms/step - loss: 0.1206 - sparse_categorical_accuracy: 0.9760 - val_loss: 0.4350 - val_sparse_categorical_accuracy: 0.8680\n",
            "Epoch 7/10\n",
            "30/32 [===========================>..] - ETA: 0s - loss: 0.0904 - sparse_categorical_accuracy: 0.9844\n",
            "Epoch 7: saving model to training_1/cp.ckpt\n",
            "32/32 [==============================] - 0s 11ms/step - loss: 0.0884 - sparse_categorical_accuracy: 0.9850 - val_loss: 0.4267 - val_sparse_categorical_accuracy: 0.8560\n",
            "Epoch 8/10\n",
            "30/32 [===========================>..] - ETA: 0s - loss: 0.0672 - sparse_categorical_accuracy: 0.9927\n",
            "Epoch 8: saving model to training_1/cp.ckpt\n",
            "32/32 [==============================] - 0s 14ms/step - loss: 0.0673 - sparse_categorical_accuracy: 0.9930 - val_loss: 0.4434 - val_sparse_categorical_accuracy: 0.8540\n",
            "Epoch 9/10\n",
            "31/32 [============================>.] - ETA: 0s - loss: 0.0489 - sparse_categorical_accuracy: 0.9990\n",
            "Epoch 9: saving model to training_1/cp.ckpt\n",
            "32/32 [==============================] - 0s 13ms/step - loss: 0.0489 - sparse_categorical_accuracy: 0.9990 - val_loss: 0.4186 - val_sparse_categorical_accuracy: 0.8670\n",
            "Epoch 10/10\n",
            "31/32 [============================>.] - ETA: 0s - loss: 0.0410 - sparse_categorical_accuracy: 0.9980\n",
            "Epoch 10: saving model to training_1/cp.ckpt\n",
            "32/32 [==============================] - 0s 14ms/step - loss: 0.0409 - sparse_categorical_accuracy: 0.9980 - val_loss: 0.4113 - val_sparse_categorical_accuracy: 0.8590\n"
          ]
        },
        {
          "output_type": "execute_result",
          "data": {
            "text/plain": [
              "<keras.src.callbacks.History at 0x7f8045432230>"
            ]
          },
          "metadata": {},
          "execution_count": 9
        }
      ]
    },
    {
      "cell_type": "code",
      "source": [
        "os.listdir(checkpoint_dir)"
      ],
      "metadata": {
        "colab": {
          "base_uri": "https://localhost:8080/"
        },
        "id": "OmX4qmukqW9z",
        "outputId": "3a48c6f8-ab59-4ecc-fa9f-3c63d9e7eb72"
      },
      "execution_count": 10,
      "outputs": [
        {
          "output_type": "execute_result",
          "data": {
            "text/plain": [
              "['cp.ckpt.data-00000-of-00001', 'cp.ckpt.index', 'checkpoint']"
            ]
          },
          "metadata": {},
          "execution_count": 10
        }
      ]
    },
    {
      "cell_type": "code",
      "source": [
        "# Create a basic model instance\n",
        "model = create_model()\n",
        "\n",
        "# Evaluate the model\n",
        "loss, acc = model.evaluate(test_images, test_labels, verbose = 2)\n",
        "print(\"Untrained model accuracy: {:5.2f}%\".format(100 * acc))"
      ],
      "metadata": {
        "colab": {
          "base_uri": "https://localhost:8080/"
        },
        "id": "iCFLJ0J5qlyE",
        "outputId": "32d512ce-38c2-4885-d2a7-25ce578d545d"
      },
      "execution_count": 11,
      "outputs": [
        {
          "output_type": "stream",
          "name": "stdout",
          "text": [
            "32/32 - 0s - loss: 2.3458 - sparse_categorical_accuracy: 0.1460 - 255ms/epoch - 8ms/step\n",
            "Untrained model accuracy: 14.60%\n"
          ]
        }
      ]
    },
    {
      "cell_type": "code",
      "source": [
        "# Load the weights\n",
        "model.load_weights(checkpoint_path)\n",
        "\n",
        "# Re-evaluate the model\n",
        "loss, acc = model.evaluate(test_images, test_labels, verbose = 2)\n",
        "print(\"Restored model, accuracy: {:5.2f}%\".format(100 * acc))"
      ],
      "metadata": {
        "colab": {
          "base_uri": "https://localhost:8080/"
        },
        "id": "E8g0vzlNr6ae",
        "outputId": "7d288715-a74f-4ee9-c425-c989e0e6532c"
      },
      "execution_count": 12,
      "outputs": [
        {
          "output_type": "stream",
          "name": "stdout",
          "text": [
            "32/32 - 0s - loss: 0.4113 - sparse_categorical_accuracy: 0.8590 - 200ms/epoch - 6ms/step\n",
            "Restored model, accuracy: 85.90%\n"
          ]
        }
      ]
    },
    {
      "cell_type": "code",
      "source": [],
      "metadata": {
        "id": "uhteMzmusbuZ"
      },
      "execution_count": null,
      "outputs": []
    }
  ]
}