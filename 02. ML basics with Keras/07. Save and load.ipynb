{
  "nbformat": 4,
  "nbformat_minor": 0,
  "metadata": {
    "colab": {
      "provenance": [],
      "authorship_tag": "ABX9TyP7wRMT87on1/RietqO3nP6",
      "include_colab_link": true
    },
    "kernelspec": {
      "name": "python3",
      "display_name": "Python 3"
    },
    "language_info": {
      "name": "python"
    }
  },
  "cells": [
    {
      "cell_type": "markdown",
      "metadata": {
        "id": "view-in-github",
        "colab_type": "text"
      },
      "source": [
        "<a href=\"https://colab.research.google.com/github/NavdeepTU/Deep-Learning/blob/main/02.%20ML%20basics%20with%20Keras/07.%20Save%20and%20load.ipynb\" target=\"_parent\"><img src=\"https://colab.research.google.com/assets/colab-badge.svg\" alt=\"Open In Colab\"/></a>"
      ]
    },
    {
      "cell_type": "code",
      "execution_count": 13,
      "metadata": {
        "colab": {
          "base_uri": "https://localhost:8080/"
        },
        "id": "I_qMr1wgjg0l",
        "outputId": "012ef6a6-3587-4bfd-93c4-204cdfd9f2d7"
      },
      "outputs": [
        {
          "output_type": "stream",
          "name": "stdout",
          "text": [
            "Requirement already satisfied: pyyaml in /usr/local/lib/python3.10/dist-packages (6.0.1)\n",
            "Requirement already satisfied: h5py in /usr/local/lib/python3.10/dist-packages (3.9.0)\n",
            "Requirement already satisfied: numpy>=1.17.3 in /usr/local/lib/python3.10/dist-packages (from h5py) (1.23.5)\n"
          ]
        }
      ],
      "source": [
        "pip install pyyaml h5py # Required to save models in HDF5 format"
      ]
    },
    {
      "cell_type": "code",
      "source": [
        "import os\n",
        "import tensorflow as tf"
      ],
      "metadata": {
        "id": "6XwRHrUqkl4j"
      },
      "execution_count": 14,
      "outputs": []
    },
    {
      "cell_type": "code",
      "source": [
        "# to demonstrate how to save and load weights, we'll use the MNIST dataset.\n",
        "# To speed up these runs, use the first 1000 examples.\n",
        "\n",
        "(train_images, train_labels), (test_images, test_labels) = tf.keras.datasets.mnist.load_data()\n",
        "\n",
        "train_labels = train_labels[:1000]\n",
        "test_labels = test_labels[:1000]\n",
        "\n",
        "train_images = train_images[:1000].reshape(-1, 28 * 28) / 255.0\n",
        "test_images = test_images[:1000].reshape(-1, 28 * 28) / 255.0"
      ],
      "metadata": {
        "id": "6wPfJg7fktmU"
      },
      "execution_count": 15,
      "outputs": []
    },
    {
      "cell_type": "code",
      "source": [
        "# Define a model\n",
        "\n",
        "# define a simple sequential model\n",
        "def create_model():\n",
        "  model = tf.keras.Sequential([\n",
        "      tf.keras.layers.Dense(512, activation = 'relu', input_shape = (784,)),\n",
        "      tf.keras.layers.Dropout(0.2),\n",
        "      tf.keras.layers.Dense(10)\n",
        "  ])\n",
        "\n",
        "  model.compile(optimizer = 'adam',\n",
        "                loss = tf.keras.losses.SparseCategoricalCrossentropy(from_logits = True),\n",
        "                metrics = [tf.keras.metrics.SparseCategoricalAccuracy()])\n",
        "\n",
        "  return model\n",
        "\n",
        "# Create a basic model instance\n",
        "model = create_model()\n",
        "\n",
        "# Display the model's architecture\n",
        "model.summary()"
      ],
      "metadata": {
        "colab": {
          "base_uri": "https://localhost:8080/"
        },
        "id": "afF_zTaSliUe",
        "outputId": "3dc82081-518a-4ac2-e303-2cdf046b098d"
      },
      "execution_count": 16,
      "outputs": [
        {
          "output_type": "stream",
          "name": "stdout",
          "text": [
            "Model: \"sequential_4\"\n",
            "_________________________________________________________________\n",
            " Layer (type)                Output Shape              Param #   \n",
            "=================================================================\n",
            " dense_8 (Dense)             (None, 512)               401920    \n",
            "                                                                 \n",
            " dropout_4 (Dropout)         (None, 512)               0         \n",
            "                                                                 \n",
            " dense_9 (Dense)             (None, 10)                5130      \n",
            "                                                                 \n",
            "=================================================================\n",
            "Total params: 407050 (1.55 MB)\n",
            "Trainable params: 407050 (1.55 MB)\n",
            "Non-trainable params: 0 (0.00 Byte)\n",
            "_________________________________________________________________\n"
          ]
        }
      ]
    },
    {
      "cell_type": "code",
      "source": [
        "# Save checkpoints during training\n",
        "\n",
        "# You can use a trained model without having to retrain it,\n",
        "# or pick-up training where you left off in case the training process was interrupted.\n",
        "\n",
        "checkpoint_path = \"training_1/cp.ckpt\"\n",
        "checkpoint_dir = os.path.dirname(checkpoint_path)\n",
        "\n",
        "# create a callback that saves the model's weights\n",
        "cp_callback = tf.keras.callbacks.ModelCheckpoint(filepath = checkpoint_path,\n",
        "                                                 save_weights_only = True,\n",
        "                                                 verbose = 1)\n",
        "\n",
        "# Train the model with new callback\n",
        "model.fit(train_images,\n",
        "          train_labels,\n",
        "          epochs = 10,\n",
        "          validation_data = (test_images, test_labels),\n",
        "          callbacks = [cp_callback]) # Pass callback to training"
      ],
      "metadata": {
        "colab": {
          "base_uri": "https://localhost:8080/"
        },
        "id": "w0tcLSx7oMW_",
        "outputId": "7ccaa257-64c0-44f3-c605-b8648bcba46b"
      },
      "execution_count": 17,
      "outputs": [
        {
          "output_type": "stream",
          "name": "stdout",
          "text": [
            "Epoch 1/10\n",
            "28/32 [=========================>....] - ETA: 0s - loss: 1.2051 - sparse_categorical_accuracy: 0.6451\n",
            "Epoch 1: saving model to training_1/cp.ckpt\n",
            "32/32 [==============================] - 2s 25ms/step - loss: 1.1569 - sparse_categorical_accuracy: 0.6610 - val_loss: 0.7111 - val_sparse_categorical_accuracy: 0.7830\n",
            "Epoch 2/10\n",
            "28/32 [=========================>....] - ETA: 0s - loss: 0.4220 - sparse_categorical_accuracy: 0.8772\n",
            "Epoch 2: saving model to training_1/cp.ckpt\n",
            "32/32 [==============================] - 0s 16ms/step - loss: 0.4056 - sparse_categorical_accuracy: 0.8830 - val_loss: 0.5382 - val_sparse_categorical_accuracy: 0.8280\n",
            "Epoch 3/10\n",
            "30/32 [===========================>..] - ETA: 0s - loss: 0.2856 - sparse_categorical_accuracy: 0.9271\n",
            "Epoch 3: saving model to training_1/cp.ckpt\n",
            "32/32 [==============================] - 0s 13ms/step - loss: 0.2830 - sparse_categorical_accuracy: 0.9290 - val_loss: 0.4753 - val_sparse_categorical_accuracy: 0.8480\n",
            "Epoch 4/10\n",
            "30/32 [===========================>..] - ETA: 0s - loss: 0.2274 - sparse_categorical_accuracy: 0.9406\n",
            "Epoch 4: saving model to training_1/cp.ckpt\n",
            "32/32 [==============================] - 0s 11ms/step - loss: 0.2204 - sparse_categorical_accuracy: 0.9430 - val_loss: 0.4486 - val_sparse_categorical_accuracy: 0.8590\n",
            "Epoch 5/10\n",
            "30/32 [===========================>..] - ETA: 0s - loss: 0.1508 - sparse_categorical_accuracy: 0.9708\n",
            "Epoch 5: saving model to training_1/cp.ckpt\n",
            "32/32 [==============================] - 0s 14ms/step - loss: 0.1498 - sparse_categorical_accuracy: 0.9720 - val_loss: 0.4240 - val_sparse_categorical_accuracy: 0.8570\n",
            "Epoch 6/10\n",
            "31/32 [============================>.] - ETA: 0s - loss: 0.1078 - sparse_categorical_accuracy: 0.9839\n",
            "Epoch 6: saving model to training_1/cp.ckpt\n",
            "32/32 [==============================] - 0s 13ms/step - loss: 0.1089 - sparse_categorical_accuracy: 0.9830 - val_loss: 0.4161 - val_sparse_categorical_accuracy: 0.8650\n",
            "Epoch 7/10\n",
            "25/32 [======================>.......] - ETA: 0s - loss: 0.0823 - sparse_categorical_accuracy: 0.9900\n",
            "Epoch 7: saving model to training_1/cp.ckpt\n",
            "32/32 [==============================] - 0s 13ms/step - loss: 0.0833 - sparse_categorical_accuracy: 0.9910 - val_loss: 0.4068 - val_sparse_categorical_accuracy: 0.8700\n",
            "Epoch 8/10\n",
            "32/32 [==============================] - ETA: 0s - loss: 0.0721 - sparse_categorical_accuracy: 0.9940\n",
            "Epoch 8: saving model to training_1/cp.ckpt\n",
            "32/32 [==============================] - 0s 13ms/step - loss: 0.0721 - sparse_categorical_accuracy: 0.9940 - val_loss: 0.4110 - val_sparse_categorical_accuracy: 0.8710\n",
            "Epoch 9/10\n",
            "32/32 [==============================] - ETA: 0s - loss: 0.0451 - sparse_categorical_accuracy: 0.9970\n",
            "Epoch 9: saving model to training_1/cp.ckpt\n",
            "32/32 [==============================] - 0s 11ms/step - loss: 0.0451 - sparse_categorical_accuracy: 0.9970 - val_loss: 0.4052 - val_sparse_categorical_accuracy: 0.8700\n",
            "Epoch 10/10\n",
            "29/32 [==========================>...] - ETA: 0s - loss: 0.0399 - sparse_categorical_accuracy: 0.9946\n",
            "Epoch 10: saving model to training_1/cp.ckpt\n",
            "32/32 [==============================] - 0s 14ms/step - loss: 0.0389 - sparse_categorical_accuracy: 0.9950 - val_loss: 0.4036 - val_sparse_categorical_accuracy: 0.8750\n"
          ]
        },
        {
          "output_type": "execute_result",
          "data": {
            "text/plain": [
              "<keras.src.callbacks.History at 0x7aa9f8934490>"
            ]
          },
          "metadata": {},
          "execution_count": 17
        }
      ]
    },
    {
      "cell_type": "code",
      "source": [
        "os.listdir(checkpoint_dir)"
      ],
      "metadata": {
        "colab": {
          "base_uri": "https://localhost:8080/"
        },
        "id": "OmX4qmukqW9z",
        "outputId": "c450bff4-9704-4d72-c23f-3e35f4f1b2b0"
      },
      "execution_count": 18,
      "outputs": [
        {
          "output_type": "execute_result",
          "data": {
            "text/plain": [
              "['cp.ckpt.data-00000-of-00001', 'cp.ckpt.index', 'checkpoint']"
            ]
          },
          "metadata": {},
          "execution_count": 18
        }
      ]
    },
    {
      "cell_type": "code",
      "source": [
        "# Create a basic model instance\n",
        "model = create_model()\n",
        "\n",
        "# Evaluate the model\n",
        "loss, acc = model.evaluate(test_images, test_labels, verbose = 2)\n",
        "print(\"Untrained model accuracy: {:5.2f}%\".format(100 * acc))"
      ],
      "metadata": {
        "colab": {
          "base_uri": "https://localhost:8080/"
        },
        "id": "iCFLJ0J5qlyE",
        "outputId": "6335efa1-afed-434a-f1ea-ab6af255106f"
      },
      "execution_count": 19,
      "outputs": [
        {
          "output_type": "stream",
          "name": "stdout",
          "text": [
            "32/32 - 0s - loss: 2.3406 - sparse_categorical_accuracy: 0.1530 - 195ms/epoch - 6ms/step\n",
            "Untrained model accuracy: 15.30%\n"
          ]
        }
      ]
    },
    {
      "cell_type": "code",
      "source": [
        "# Load the weights\n",
        "model.load_weights(checkpoint_path)\n",
        "\n",
        "# Re-evaluate the model\n",
        "loss, acc = model.evaluate(test_images, test_labels, verbose = 2)\n",
        "print(\"Restored model, accuracy: {:5.2f}%\".format(100 * acc))"
      ],
      "metadata": {
        "colab": {
          "base_uri": "https://localhost:8080/"
        },
        "id": "E8g0vzlNr6ae",
        "outputId": "11d8f95c-efe7-45e4-811f-d0426b1d1adc"
      },
      "execution_count": 20,
      "outputs": [
        {
          "output_type": "stream",
          "name": "stdout",
          "text": [
            "32/32 - 0s - loss: 0.4036 - sparse_categorical_accuracy: 0.8750 - 92ms/epoch - 3ms/step\n",
            "Restored model, accuracy: 87.50%\n"
          ]
        }
      ]
    },
    {
      "cell_type": "code",
      "source": [
        "# Checkpoint callback options\n",
        "# Train a new model, and save uniquely named checkpoints once every five epochs\n",
        "\n",
        "# Include the epoch in the file name (uses `str.format`)\n",
        "checkpoint_path = \"training_2/cp-{epoch:04d}.ckpt\"\n",
        "checkpoint_dir = os.path.dirname(checkpoint_path)\n",
        "\n",
        "batch_size = 32\n",
        "\n",
        "# Calculate the number of batches per epoch\n",
        "import math\n",
        "n_batches = len(train_images) / batch_size\n",
        "n_batches = math.ceil(n_batches)\n",
        "\n",
        "# create a callback that saves the model's weights every 5 epochs\n",
        "cp_callback = tf.keras.callbacks.ModelCheckpoint(\n",
        "    filepath = checkpoint_path,\n",
        "    verbose = 1,\n",
        "    save_weights_only = True,\n",
        "    save_freq = 5*n_batches\n",
        ")\n",
        "\n",
        "# create a new model instance\n",
        "model = create_model()\n",
        "\n",
        "# save the weights using the `checkpoint_path` format\n",
        "model.save_weights(checkpoint_path.format(epoch = 0))\n",
        "\n",
        "# train the model with new callback\n",
        "model.fit(train_images,\n",
        "          train_labels,\n",
        "          epochs = 50,\n",
        "          batch_size = batch_size,\n",
        "          callbacks = [cp_callback],\n",
        "          validation_data = (test_images, test_labels),\n",
        "          verbose = 0)"
      ],
      "metadata": {
        "id": "uhteMzmusbuZ",
        "outputId": "2964708d-9d88-4cb0-809e-c55fdb5656e3",
        "colab": {
          "base_uri": "https://localhost:8080/"
        }
      },
      "execution_count": 21,
      "outputs": [
        {
          "output_type": "stream",
          "name": "stdout",
          "text": [
            "\n",
            "Epoch 5: saving model to training_2/cp-0005.ckpt\n",
            "\n",
            "Epoch 10: saving model to training_2/cp-0010.ckpt\n",
            "\n",
            "Epoch 15: saving model to training_2/cp-0015.ckpt\n",
            "\n",
            "Epoch 20: saving model to training_2/cp-0020.ckpt\n",
            "\n",
            "Epoch 25: saving model to training_2/cp-0025.ckpt\n",
            "\n",
            "Epoch 30: saving model to training_2/cp-0030.ckpt\n",
            "\n",
            "Epoch 35: saving model to training_2/cp-0035.ckpt\n",
            "\n",
            "Epoch 40: saving model to training_2/cp-0040.ckpt\n",
            "\n",
            "Epoch 45: saving model to training_2/cp-0045.ckpt\n",
            "\n",
            "Epoch 50: saving model to training_2/cp-0050.ckpt\n"
          ]
        },
        {
          "output_type": "execute_result",
          "data": {
            "text/plain": [
              "<keras.src.callbacks.History at 0x7aa9fcb73e50>"
            ]
          },
          "metadata": {},
          "execution_count": 21
        }
      ]
    },
    {
      "cell_type": "code",
      "source": [
        "# Now, review the resulting checkpoints and choose the latest one\n",
        "os.listdir(checkpoint_dir)"
      ],
      "metadata": {
        "id": "qaEKtJI9n4hl",
        "outputId": "b0b19e56-717f-46ad-da9a-ad603b1d6963",
        "colab": {
          "base_uri": "https://localhost:8080/"
        }
      },
      "execution_count": 22,
      "outputs": [
        {
          "output_type": "execute_result",
          "data": {
            "text/plain": [
              "['cp-0020.ckpt.data-00000-of-00001',\n",
              " 'cp-0035.ckpt.data-00000-of-00001',\n",
              " 'cp-0030.ckpt.data-00000-of-00001',\n",
              " 'cp-0005.ckpt.index',\n",
              " 'cp-0035.ckpt.index',\n",
              " 'cp-0025.ckpt.index',\n",
              " 'cp-0050.ckpt.data-00000-of-00001',\n",
              " 'cp-0040.ckpt.data-00000-of-00001',\n",
              " 'cp-0045.ckpt.index',\n",
              " 'cp-0040.ckpt.index',\n",
              " 'cp-0015.ckpt.index',\n",
              " 'cp-0020.ckpt.index',\n",
              " 'cp-0025.ckpt.data-00000-of-00001',\n",
              " 'cp-0000.ckpt.data-00000-of-00001',\n",
              " 'cp-0045.ckpt.data-00000-of-00001',\n",
              " 'cp-0010.ckpt.data-00000-of-00001',\n",
              " 'cp-0000.ckpt.index',\n",
              " 'cp-0030.ckpt.index',\n",
              " 'cp-0050.ckpt.index',\n",
              " 'cp-0005.ckpt.data-00000-of-00001',\n",
              " 'cp-0010.ckpt.index',\n",
              " 'cp-0015.ckpt.data-00000-of-00001',\n",
              " 'checkpoint']"
            ]
          },
          "metadata": {},
          "execution_count": 22
        }
      ]
    },
    {
      "cell_type": "code",
      "source": [
        "latest = tf.train.latest_checkpoint(checkpoint_dir)\n",
        "latest"
      ],
      "metadata": {
        "id": "ZXsKomncoRbL",
        "outputId": "82c7549c-d30d-45ae-fb40-64dcd82d1c33",
        "colab": {
          "base_uri": "https://localhost:8080/",
          "height": 36
        }
      },
      "execution_count": 23,
      "outputs": [
        {
          "output_type": "execute_result",
          "data": {
            "text/plain": [
              "'training_2/cp-0050.ckpt'"
            ],
            "application/vnd.google.colaboratory.intrinsic+json": {
              "type": "string"
            }
          },
          "metadata": {},
          "execution_count": 23
        }
      ]
    },
    {
      "cell_type": "code",
      "source": [
        "# test, reset the model, and load the latest checkpoint\n",
        "\n",
        "# create a new model instance\n",
        "model = create_model()\n",
        "\n",
        "# load the previously saved weights\n",
        "model.load_weights(latest)\n",
        "\n",
        "# re-evaluate the model\n",
        "loss, acc = model.evaluate(test_images, test_labels, verbose = 2)\n",
        "print(\"Restored model, accuracy: {:5.2f}%\".format(100 * acc))"
      ],
      "metadata": {
        "id": "mFvLKFjeomNF",
        "outputId": "95769acb-d329-410c-e376-c4b520c300fd",
        "colab": {
          "base_uri": "https://localhost:8080/"
        }
      },
      "execution_count": 24,
      "outputs": [
        {
          "output_type": "stream",
          "name": "stdout",
          "text": [
            "32/32 - 0s - loss: 0.4860 - sparse_categorical_accuracy: 0.8740 - 200ms/epoch - 6ms/step\n",
            "Restored model, accuracy: 87.40%\n"
          ]
        }
      ]
    },
    {
      "cell_type": "code",
      "source": [
        "# manually save weights\n",
        "\n",
        "# Save the weights\n",
        "model.save_weights('./checkpoints/my_checkpoint')\n",
        "\n",
        "# create a new model instance\n",
        "model = create_model()\n",
        "\n",
        "# restore the weights\n",
        "model.load_weights('./checkpoints/my_checkpoint')\n",
        "\n",
        "# evaluate the model\n",
        "loss, acc = model.evaluate(test_images, test_labels, verbose = 2)\n",
        "print('Restored model, accuracy: {:5.2f}%'.format(100 * acc))"
      ],
      "metadata": {
        "id": "JYysIdWNp8Bi",
        "outputId": "fcabcf6a-c225-4575-c3a7-dc2094313524",
        "colab": {
          "base_uri": "https://localhost:8080/"
        }
      },
      "execution_count": 25,
      "outputs": [
        {
          "output_type": "stream",
          "name": "stdout",
          "text": [
            "32/32 - 0s - loss: 0.4860 - sparse_categorical_accuracy: 0.8740 - 196ms/epoch - 6ms/step\n",
            "Restored model, accuracy: 87.40%\n"
          ]
        }
      ]
    },
    {
      "cell_type": "code",
      "source": [
        "# Save the entire model\n",
        "\n",
        "# new high level .keras format\n",
        "\n",
        "# create and train a new model instance\n",
        "model = create_model()\n",
        "model.fit(train_images, train_labels, epochs = 5)\n",
        "\n",
        "# save the entire model as a '.keras' zip archive.\n",
        "model.save('my_model.keras')"
      ],
      "metadata": {
        "id": "Av05ySraCpDo",
        "outputId": "72a18b18-c53d-4e59-8ccb-5c6ba649d30e",
        "colab": {
          "base_uri": "https://localhost:8080/"
        }
      },
      "execution_count": 26,
      "outputs": [
        {
          "output_type": "stream",
          "name": "stdout",
          "text": [
            "Epoch 1/5\n",
            "32/32 [==============================] - 1s 7ms/step - loss: 1.1711 - sparse_categorical_accuracy: 0.6390\n",
            "Epoch 2/5\n",
            "32/32 [==============================] - 0s 7ms/step - loss: 0.4314 - sparse_categorical_accuracy: 0.8830\n",
            "Epoch 3/5\n",
            "32/32 [==============================] - 0s 7ms/step - loss: 0.2872 - sparse_categorical_accuracy: 0.9280\n",
            "Epoch 4/5\n",
            "32/32 [==============================] - 0s 7ms/step - loss: 0.2131 - sparse_categorical_accuracy: 0.9530\n",
            "Epoch 5/5\n",
            "32/32 [==============================] - 0s 8ms/step - loss: 0.1507 - sparse_categorical_accuracy: 0.9680\n"
          ]
        }
      ]
    },
    {
      "cell_type": "code",
      "source": [
        "new_model = tf.keras.models.load_model('my_model.keras')\n",
        "\n",
        "# show the model architecture\n",
        "new_model.summary()"
      ],
      "metadata": {
        "id": "-XiMItdyERrm",
        "outputId": "03130c58-8485-4a6b-db02-9a84ec027bdb",
        "colab": {
          "base_uri": "https://localhost:8080/"
        }
      },
      "execution_count": 29,
      "outputs": [
        {
          "output_type": "stream",
          "name": "stdout",
          "text": [
            "Model: \"sequential_9\"\n",
            "_________________________________________________________________\n",
            " Layer (type)                Output Shape              Param #   \n",
            "=================================================================\n",
            " dense_18 (Dense)            (None, 512)               401920    \n",
            "                                                                 \n",
            " dropout_9 (Dropout)         (None, 512)               0         \n",
            "                                                                 \n",
            " dense_19 (Dense)            (None, 10)                5130      \n",
            "                                                                 \n",
            "=================================================================\n",
            "Total params: 407050 (1.55 MB)\n",
            "Trainable params: 407050 (1.55 MB)\n",
            "Non-trainable params: 0 (0.00 Byte)\n",
            "_________________________________________________________________\n"
          ]
        }
      ]
    },
    {
      "cell_type": "code",
      "source": [
        "# evaluate the stored model\n",
        "loss, acc = new_model.evaluate(test_images, test_labels, verbose = 2)\n",
        "print('Restored model, accuracy: {:5.2f}%'.format(100 * acc))\n",
        "\n",
        "print(new_model.predict(test_images).shape)"
      ],
      "metadata": {
        "id": "qBAwOhzLEpLm",
        "outputId": "1f2a162a-fb56-44c3-eed8-7adfe960e83a",
        "colab": {
          "base_uri": "https://localhost:8080/"
        }
      },
      "execution_count": 30,
      "outputs": [
        {
          "output_type": "stream",
          "name": "stdout",
          "text": [
            "32/32 - 0s - loss: 0.4538 - sparse_categorical_accuracy: 0.8500 - 243ms/epoch - 8ms/step\n",
            "Restored model, accuracy: 85.00%\n",
            "32/32 [==============================] - 0s 4ms/step\n",
            "(1000, 10)\n"
          ]
        }
      ]
    },
    {
      "cell_type": "code",
      "source": [],
      "metadata": {
        "id": "HfS2hST6FULN"
      },
      "execution_count": null,
      "outputs": []
    }
  ]
}