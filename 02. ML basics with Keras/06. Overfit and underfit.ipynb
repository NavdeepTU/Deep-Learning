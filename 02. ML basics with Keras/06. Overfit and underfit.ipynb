{
  "nbformat": 4,
  "nbformat_minor": 0,
  "metadata": {
    "colab": {
      "provenance": [],
      "authorship_tag": "ABX9TyPBjdKCwlAPmXvrilw1VeVt",
      "include_colab_link": true
    },
    "kernelspec": {
      "name": "python3",
      "display_name": "Python 3"
    },
    "language_info": {
      "name": "python"
    }
  },
  "cells": [
    {
      "cell_type": "markdown",
      "metadata": {
        "id": "view-in-github",
        "colab_type": "text"
      },
      "source": [
        "<a href=\"https://colab.research.google.com/github/NavdeepTU/Deep-Learning/blob/main/02.%20ML%20basics%20with%20Keras/06.%20Overfit%20and%20underfit.ipynb\" target=\"_parent\"><img src=\"https://colab.research.google.com/assets/colab-badge.svg\" alt=\"Open In Colab\"/></a>"
      ]
    },
    {
      "cell_type": "code",
      "source": [
        "!pip install git+https://github.com/tensorflow/docs"
      ],
      "metadata": {
        "colab": {
          "base_uri": "https://localhost:8080/"
        },
        "id": "CkucmffIYuUi",
        "outputId": "e19a0fb2-44db-4e54-b213-731ba9867d54"
      },
      "execution_count": 1,
      "outputs": [
        {
          "output_type": "stream",
          "name": "stdout",
          "text": [
            "Collecting git+https://github.com/tensorflow/docs\n",
            "  Cloning https://github.com/tensorflow/docs to /tmp/pip-req-build-lvv6o68u\n",
            "  Running command git clone --filter=blob:none --quiet https://github.com/tensorflow/docs /tmp/pip-req-build-lvv6o68u\n",
            "  Resolved https://github.com/tensorflow/docs to commit 03190f3b6f327a1dbaba9a712bdf102616010cfc\n",
            "  Preparing metadata (setup.py) ... \u001b[?25l\u001b[?25hdone\n",
            "Collecting astor (from tensorflow-docs==2023.10.27.81990)\n",
            "  Downloading astor-0.8.1-py2.py3-none-any.whl (27 kB)\n",
            "Requirement already satisfied: absl-py in /usr/local/lib/python3.10/dist-packages (from tensorflow-docs==2023.10.27.81990) (1.4.0)\n",
            "Requirement already satisfied: jinja2 in /usr/local/lib/python3.10/dist-packages (from tensorflow-docs==2023.10.27.81990) (3.1.2)\n",
            "Requirement already satisfied: nbformat in /usr/local/lib/python3.10/dist-packages (from tensorflow-docs==2023.10.27.81990) (5.9.2)\n",
            "Requirement already satisfied: protobuf>=3.12 in /usr/local/lib/python3.10/dist-packages (from tensorflow-docs==2023.10.27.81990) (3.20.3)\n",
            "Requirement already satisfied: pyyaml in /usr/local/lib/python3.10/dist-packages (from tensorflow-docs==2023.10.27.81990) (6.0.1)\n",
            "Requirement already satisfied: MarkupSafe>=2.0 in /usr/local/lib/python3.10/dist-packages (from jinja2->tensorflow-docs==2023.10.27.81990) (2.1.3)\n",
            "Requirement already satisfied: fastjsonschema in /usr/local/lib/python3.10/dist-packages (from nbformat->tensorflow-docs==2023.10.27.81990) (2.19.0)\n",
            "Requirement already satisfied: jsonschema>=2.6 in /usr/local/lib/python3.10/dist-packages (from nbformat->tensorflow-docs==2023.10.27.81990) (4.19.2)\n",
            "Requirement already satisfied: jupyter-core in /usr/local/lib/python3.10/dist-packages (from nbformat->tensorflow-docs==2023.10.27.81990) (5.5.0)\n",
            "Requirement already satisfied: traitlets>=5.1 in /usr/local/lib/python3.10/dist-packages (from nbformat->tensorflow-docs==2023.10.27.81990) (5.7.1)\n",
            "Requirement already satisfied: attrs>=22.2.0 in /usr/local/lib/python3.10/dist-packages (from jsonschema>=2.6->nbformat->tensorflow-docs==2023.10.27.81990) (23.1.0)\n",
            "Requirement already satisfied: jsonschema-specifications>=2023.03.6 in /usr/local/lib/python3.10/dist-packages (from jsonschema>=2.6->nbformat->tensorflow-docs==2023.10.27.81990) (2023.11.2)\n",
            "Requirement already satisfied: referencing>=0.28.4 in /usr/local/lib/python3.10/dist-packages (from jsonschema>=2.6->nbformat->tensorflow-docs==2023.10.27.81990) (0.31.1)\n",
            "Requirement already satisfied: rpds-py>=0.7.1 in /usr/local/lib/python3.10/dist-packages (from jsonschema>=2.6->nbformat->tensorflow-docs==2023.10.27.81990) (0.13.2)\n",
            "Requirement already satisfied: platformdirs>=2.5 in /usr/local/lib/python3.10/dist-packages (from jupyter-core->nbformat->tensorflow-docs==2023.10.27.81990) (4.0.0)\n",
            "Building wheels for collected packages: tensorflow-docs\n",
            "  Building wheel for tensorflow-docs (setup.py) ... \u001b[?25l\u001b[?25hdone\n",
            "  Created wheel for tensorflow-docs: filename=tensorflow_docs-2023.10.27.81990-py3-none-any.whl size=184142 sha256=d4135401c0dae53b56a844f606ae92004942167c0d250018c6dca2e0da93e630\n",
            "  Stored in directory: /tmp/pip-ephem-wheel-cache-a2iys5a0/wheels/86/0f/1e/3b62293c8ffd0fd5a49508e6871cdb7554abe9c62afd35ec53\n",
            "Successfully built tensorflow-docs\n",
            "Installing collected packages: astor, tensorflow-docs\n",
            "Successfully installed astor-0.8.1 tensorflow-docs-2023.10.27.81990\n"
          ]
        }
      ]
    },
    {
      "cell_type": "code",
      "source": [
        "import tensorflow as tf\n",
        "import tensorflow_docs as tfdocs\n",
        "import tensorflow_docs.modeling\n",
        "import tensorflow_docs.plots\n",
        "from IPython import display\n",
        "from matplotlib import pyplot as plt\n",
        "import numpy as np\n",
        "import pathlib\n",
        "import shutil\n",
        "import tempfile"
      ],
      "metadata": {
        "id": "x7olFy2YY-xH"
      },
      "execution_count": 2,
      "outputs": []
    },
    {
      "cell_type": "code",
      "source": [
        "logdir = pathlib.Path(tempfile.mkdtemp())/\"tensorboard_logs\"\n",
        "shutil.rmtree(logdir, ignore_errors = True)"
      ],
      "metadata": {
        "id": "AKFfCivjX073"
      },
      "execution_count": 3,
      "outputs": []
    },
    {
      "cell_type": "code",
      "source": [
        "gz = tf.keras.utils.get_file('HIGGS.csv.gz', 'http://mlphysics.ics.uci.edu/data/higgs/HIGGS.csv.gz')"
      ],
      "metadata": {
        "colab": {
          "base_uri": "https://localhost:8080/"
        },
        "id": "Qhkn23OfZg7O",
        "outputId": "2ea3e814-2267-423a-8c90-046a346234d4"
      },
      "execution_count": 4,
      "outputs": [
        {
          "output_type": "stream",
          "name": "stdout",
          "text": [
            "Downloading data from http://mlphysics.ics.uci.edu/data/higgs/HIGGS.csv.gz\n",
            "2816407858/2816407858 [==============================] - 433s 0us/step\n"
          ]
        }
      ]
    },
    {
      "cell_type": "code",
      "source": [
        "FEATURES = 28"
      ],
      "metadata": {
        "id": "xBoTvW33bprV"
      },
      "execution_count": 5,
      "outputs": []
    },
    {
      "cell_type": "code",
      "source": [
        "ds = tf.data.experimental.CsvDataset(gz, [float(),] * (FEATURES + 1), compression_type = \"GZIP\")"
      ],
      "metadata": {
        "id": "vM8Ub84mb5Sx"
      },
      "execution_count": 6,
      "outputs": []
    },
    {
      "cell_type": "code",
      "source": [
        "def pack_row(*row):\n",
        "  label = row[0]\n",
        "  features = tf.stack(row[1:], 1)\n",
        "  return features, label"
      ],
      "metadata": {
        "id": "TTsC8r7FcluT"
      },
      "execution_count": 7,
      "outputs": []
    },
    {
      "cell_type": "code",
      "source": [
        "packed_ds = ds.batch(10000).map(pack_row).unbatch()"
      ],
      "metadata": {
        "id": "06F2vIPtdI7E"
      },
      "execution_count": 8,
      "outputs": []
    },
    {
      "cell_type": "code",
      "source": [
        "# Inspect some of the records from this new packed_ds\n",
        "for features, label in packed_ds.batch(1000).take(1):\n",
        "  print(features[0])\n",
        "  plt.hist(features.numpy().flatten(), bins = 101)"
      ],
      "metadata": {
        "colab": {
          "base_uri": "https://localhost:8080/",
          "height": 538
        },
        "id": "Xix2gRaLdflP",
        "outputId": "af63d1aa-734a-4d70-e542-f49b095f1f67"
      },
      "execution_count": 9,
      "outputs": [
        {
          "output_type": "stream",
          "name": "stdout",
          "text": [
            "tf.Tensor(\n",
            "[ 0.8692932  -0.6350818   0.22569026  0.32747006 -0.6899932   0.75420225\n",
            " -0.24857314 -1.0920639   0.          1.3749921  -0.6536742   0.9303491\n",
            "  1.1074361   1.1389043  -1.5781983  -1.0469854   0.          0.65792954\n",
            " -0.01045457 -0.04576717  3.1019614   1.35376     0.9795631   0.97807616\n",
            "  0.92000484  0.72165745  0.98875093  0.87667835], shape=(28,), dtype=float32)\n"
          ]
        },
        {
          "output_type": "display_data",
          "data": {
            "text/plain": [
              "<Figure size 640x480 with 1 Axes>"
            ],
            "image/png": "[encoded data removed]"
          },
          "metadata": {}
        }
      ]
    },
    {
      "cell_type": "code",
      "source": [
        "# to keep this tutorial short, use just the first 1,000 samples for validation, and the next 10,000 for training\n",
        "N_VALIDATION = int(1e3)\n",
        "N_TRAIN = int(1e4)\n",
        "BUFFER_SIZE = int(1e4)\n",
        "BATCH_SIZE = 500\n",
        "STEPS_PER_EPOCH = N_TRAIN // BATCH_SIZE"
      ],
      "metadata": {
        "id": "47gSS5KCeAbt"
      },
      "execution_count": 10,
      "outputs": []
    },
    {
      "cell_type": "code",
      "source": [
        "# use the Dataset.cache method to ensure that the loader doesn't need to re-read\n",
        "# the data from the file on each epoch\n",
        "\n",
        "validate_ds = packed_ds.take(N_VALIDATION).cache()\n",
        "train_ds = packed_ds.skip(N_VALIDATION).take(N_TRAIN).cache()"
      ],
      "metadata": {
        "id": "14UyBgC_4z-r"
      },
      "execution_count": 11,
      "outputs": []
    },
    {
      "cell_type": "code",
      "source": [
        "train_ds"
      ],
      "metadata": {
        "id": "Y5PBa_Gt51N0",
        "outputId": "00ab88cd-b142-45e2-a842-8362cadaaa6f",
        "colab": {
          "base_uri": "https://localhost:8080/"
        }
      },
      "execution_count": 12,
      "outputs": [
        {
          "output_type": "execute_result",
          "data": {
            "text/plain": [
              "<CacheDataset element_spec=(TensorSpec(shape=(28,), dtype=tf.float32, name=None), TensorSpec(shape=(), dtype=tf.float32, name=None))>"
            ]
          },
          "metadata": {},
          "execution_count": 12
        }
      ]
    },
    {
      "cell_type": "code",
      "source": [
        "validate_ds = validate_ds.batch(BATCH_SIZE)\n",
        "train_ds = train_ds.shuffle(BUFFER_SIZE).repeat().batch(BATCH_SIZE)"
      ],
      "metadata": {
        "id": "CDfNEoJX54Zk"
      },
      "execution_count": 13,
      "outputs": []
    },
    {
      "cell_type": "code",
      "source": [
        "# Demonstrate overfitting\n",
        "# many models train better if you gradually reduce the learning rate during training.\n",
        "\n",
        "lr_schedule = tf.keras.optimizers.schedules.InverseTimeDecay(\n",
        "    0.001,\n",
        "    decay_steps = STEPS_PER_EPOCH * 1000,\n",
        "    decay_rate = 1,\n",
        "    staircase = False\n",
        ")\n",
        "\n",
        "def get_optimizer():\n",
        "  return tf.keras.optimizers.Adam(lr_schedule)"
      ],
      "metadata": {
        "id": "epGKE3xY6rwp"
      },
      "execution_count": 14,
      "outputs": []
    },
    {
      "cell_type": "code",
      "source": [
        "step = np.linspace(0, 100000)\n",
        "lr = lr_schedule(step)\n",
        "plt.figure(figsize = (8, 6))\n",
        "plt.plot(step/STEPS_PER_EPOCH, lr)\n",
        "plt.ylim([0, max(plt.ylim())])\n",
        "plt.xlabel('Epoch')\n",
        "plt.ylabel('Learning Rate')"
      ],
      "metadata": {
        "id": "vdRtwE4b9Ud7",
        "outputId": "32486561-9d45-4264-c3f7-1bc46c5b8eca",
        "colab": {
          "base_uri": "https://localhost:8080/",
          "height": 560
        }
      },
      "execution_count": 15,
      "outputs": [
        {
          "output_type": "execute_result",
          "data": {
            "text/plain": [
              "Text(0, 0.5, 'Learning Rate')"
            ]
          },
          "metadata": {},
          "execution_count": 15
        },
        {
          "output_type": "display_data",
          "data": {
            "text/plain": [
              "<Figure size 800x600 with 1 Axes>"
            ],
            "image/png": "[encoded data removed]"
          },
          "metadata": {}
        }
      ]
    },
    {
      "cell_type": "code",
      "source": [
        "# each model in this tutorial will use the same training configuration. So set this up\n",
        "# in a reusable way, starting with the list of callbacks.\n",
        "\n",
        "def get_callbacks(name):\n",
        "  return [\n",
        "      tensorflow_docs.modeling.EpochDots(),\n",
        "      tf.keras.callbacks.EarlyStopping(monitor = 'val_binary_crossentropy', patience = 200),\n",
        "      tf.keras.callbacks.TensorBoard(logdir/name),\n",
        "  ]"
      ],
      "metadata": {
        "id": "FoerHx3--GqO"
      },
      "execution_count": 16,
      "outputs": []
    },
    {
      "cell_type": "code",
      "source": [
        "# similarly each model will use the same Model.compile and Model.fit settings\n",
        "\n",
        "def compile_and_fit(model, name, optimizer = None, max_epochs = 10000):\n",
        "\n",
        "  if optimizer is None:\n",
        "    optimizer = get_optimizer()\n",
        "\n",
        "  model.compile(\n",
        "      optimizer = optimizer,\n",
        "      loss = tf.keras.losses.BinaryCrossentropy(from_logits = True),\n",
        "      metrics = [tf.keras.metrics.BinaryCrossentropy(from_logits = True, name = 'binary_crossentropy'), 'accuracy']\n",
        "  )\n",
        "\n",
        "  model.summary()\n",
        "\n",
        "  history = model.fit(\n",
        "      train_ds,\n",
        "      steps_per_epoch = STEPS_PER_EPOCH,\n",
        "      epochs = max_epochs,\n",
        "      validation_data = validate_ds,\n",
        "      callbacks = get_callbacks(name),\n",
        "      verbose = 0\n",
        "  )\n",
        "\n",
        "  return history"
      ],
      "metadata": {
        "id": "oQw60QZhAIjA"
      },
      "execution_count": 17,
      "outputs": []
    },
    {
      "cell_type": "code",
      "source": [
        "# Tiny Model\n",
        "tiny_model = tf.keras.Sequential([\n",
        "    tf.keras.layers.Dense(16, activation = 'elu', input_shape=(FEATURES,)),\n",
        "    tf.keras.layers.Dense(1)\n",
        "])"
      ],
      "metadata": {
        "id": "fE6ykDAsCusR"
      },
      "execution_count": 18,
      "outputs": []
    },
    {
      "cell_type": "code",
      "source": [
        "size_histories = {}"
      ],
      "metadata": {
        "id": "VdConjrTDfcj"
      },
      "execution_count": 19,
      "outputs": []
    },
    {
      "cell_type": "code",
      "source": [
        "size_histories['Tiny'] = compile_and_fit(tiny_model, 'sizes/Tiny')"
      ],
      "metadata": {
        "id": "RqiYPCEADmu2",
        "outputId": "09933816-14a9-48f4-9839-bf1a92d0fdb4",
        "colab": {
          "base_uri": "https://localhost:8080/"
        }
      },
      "execution_count": 20,
      "outputs": [
        {
          "output_type": "stream",
          "name": "stdout",
          "text": [
            "Model: \"sequential\"\n",
            "_________________________________________________________________\n",
            " Layer (type)                Output Shape              Param #   \n",
            "=================================================================\n",
            " dense (Dense)               (None, 16)                464       \n",
            "                                                                 \n",
            " dense_1 (Dense)             (None, 1)                 17        \n",
            "                                                                 \n",
            "=================================================================\n",
            "Total params: 481 (1.88 KB)\n",
            "Trainable params: 481 (1.88 KB)\n",
            "Non-trainable params: 0 (0.00 Byte)\n",
            "_________________________________________________________________\n",
            "\n",
            "Epoch: 0, accuracy:0.5031,  binary_crossentropy:0.7872,  loss:0.7872,  val_accuracy:0.5140,  val_binary_crossentropy:0.7326,  val_loss:0.7326,  \n",
            "....................................................................................................\n",
            "Epoch: 100, accuracy:0.6043,  binary_crossentropy:0.6241,  loss:0.6241,  val_accuracy:0.5550,  val_binary_crossentropy:0.6306,  val_loss:0.6306,  \n",
            "....................................................................................................\n",
            "Epoch: 200, accuracy:0.6252,  binary_crossentropy:0.6112,  loss:0.6112,  val_accuracy:0.6380,  val_binary_crossentropy:0.6118,  val_loss:0.6118,  \n",
            "....................................................................................................\n",
            "Epoch: 300, accuracy:0.6396,  binary_crossentropy:0.6002,  loss:0.6002,  val_accuracy:0.6590,  val_binary_crossentropy:0.6014,  val_loss:0.6014,  \n",
            "....................................................................................................\n",
            "Epoch: 400, accuracy:0.6541,  binary_crossentropy:0.5937,  loss:0.5937,  val_accuracy:0.6510,  val_binary_crossentropy:0.5942,  val_loss:0.5942,  \n",
            "....................................................................................................\n",
            "Epoch: 500, accuracy:0.6609,  binary_crossentropy:0.5895,  loss:0.5895,  val_accuracy:0.6550,  val_binary_crossentropy:0.5915,  val_loss:0.5915,  \n",
            "....................................................................................................\n",
            "Epoch: 600, accuracy:0.6627,  binary_crossentropy:0.5871,  loss:0.5871,  val_accuracy:0.6600,  val_binary_crossentropy:0.5904,  val_loss:0.5904,  \n",
            "....................................................................................................\n",
            "Epoch: 700, accuracy:0.6653,  binary_crossentropy:0.5845,  loss:0.5845,  val_accuracy:0.6590,  val_binary_crossentropy:0.5901,  val_loss:0.5901,  \n",
            "....................................................................................................\n",
            "Epoch: 800, accuracy:0.6662,  binary_crossentropy:0.5836,  loss:0.5836,  val_accuracy:0.6630,  val_binary_crossentropy:0.5890,  val_loss:0.5890,  \n",
            "....................................................................................................\n",
            "Epoch: 900, accuracy:0.6701,  binary_crossentropy:0.5815,  loss:0.5815,  val_accuracy:0.6540,  val_binary_crossentropy:0.5906,  val_loss:0.5906,  \n",
            "....................................................................................................\n",
            "Epoch: 1000, accuracy:0.6688,  binary_crossentropy:0.5804,  loss:0.5804,  val_accuracy:0.6590,  val_binary_crossentropy:0.5897,  val_loss:0.5897,  \n",
            "."
          ]
        }
      ]
    },
    {
      "cell_type": "code",
      "source": [
        "# now check how the model did\n",
        "\n",
        "plotter = tensorflow_docs.plots.HistoryPlotter(metric = 'binary_crossentropy', smoothing_std = 10)\n",
        "plotter.plot(size_histories)\n",
        "plt.ylim([0.5, 0.7])"
      ],
      "metadata": {
        "id": "_K7Q2RZTD0Q8",
        "outputId": "2e7ea27b-60bd-49b1-8f77-debbb5742160",
        "colab": {
          "base_uri": "https://localhost:8080/",
          "height": 473
        }
      },
      "execution_count": 21,
      "outputs": [
        {
          "output_type": "execute_result",
          "data": {
            "text/plain": [
              "(0.5, 0.7)"
            ]
          },
          "metadata": {},
          "execution_count": 21
        },
        {
          "output_type": "display_data",
          "data": {
            "text/plain": [
              "<Figure size 640x480 with 1 Axes>"
            ],
            "image/png": "[encoded data removed]"
          },
          "metadata": {}
        }
      ]
    },
    {
      "cell_type": "code",
      "source": [
        "# Small Model\n",
        "# try 2 hidden layers with 16 units each\n",
        "\n",
        "small_model = tf.keras.Sequential([\n",
        "    # input_shape is only required here so that '.summary' works\n",
        "    tf.keras.layers.Dense(16, activation = 'elu', input_shape = (FEATURES,)),\n",
        "    tf.keras.layers.Dense(16, activation = 'elu'),\n",
        "    tf.keras.layers.Dense(1)\n",
        "])"
      ],
      "metadata": {
        "id": "mvYYyxEfGM4k"
      },
      "execution_count": 22,
      "outputs": []
    },
    {
      "cell_type": "code",
      "source": [
        "size_histories['Small'] = compile_and_fit(small_model, 'sizes/Small')"
      ],
      "metadata": {
        "id": "kL-WRSNYpolL",
        "outputId": "af7a90a3-bbb7-4631-8eac-2ffacf6e7e53",
        "colab": {
          "base_uri": "https://localhost:8080/"
        }
      },
      "execution_count": 23,
      "outputs": [
        {
          "output_type": "stream",
          "name": "stdout",
          "text": [
            "Model: \"sequential_1\"\n",
            "_________________________________________________________________\n",
            " Layer (type)                Output Shape              Param #   \n",
            "=================================================================\n",
            " dense_2 (Dense)             (None, 16)                464       \n",
            "                                                                 \n",
            " dense_3 (Dense)             (None, 16)                272       \n",
            "                                                                 \n",
            " dense_4 (Dense)             (None, 1)                 17        \n",
            "                                                                 \n",
            "=================================================================\n",
            "Total params: 753 (2.94 KB)\n",
            "Trainable params: 753 (2.94 KB)\n",
            "Non-trainable params: 0 (0.00 Byte)\n",
            "_________________________________________________________________\n",
            "\n",
            "Epoch: 0, accuracy:0.4717,  binary_crossentropy:0.7137,  loss:0.7137,  val_accuracy:0.4600,  val_binary_crossentropy:0.7060,  val_loss:0.7060,  \n",
            "....................................................................................................\n",
            "Epoch: 100, accuracy:0.6103,  binary_crossentropy:0.6149,  loss:0.6149,  val_accuracy:0.6140,  val_binary_crossentropy:0.6129,  val_loss:0.6129,  \n",
            "....................................................................................................\n",
            "Epoch: 200, accuracy:0.6388,  binary_crossentropy:0.6000,  loss:0.6000,  val_accuracy:0.6270,  val_binary_crossentropy:0.6040,  val_loss:0.6040,  \n",
            "....................................................................................................\n",
            "Epoch: 300, accuracy:0.6559,  binary_crossentropy:0.5857,  loss:0.5857,  val_accuracy:0.6430,  val_binary_crossentropy:0.5936,  val_loss:0.5936,  \n",
            "....................................................................................................\n",
            "Epoch: 400, accuracy:0.6784,  binary_crossentropy:0.5764,  loss:0.5764,  val_accuracy:0.6250,  val_binary_crossentropy:0.5961,  val_loss:0.5961,  \n",
            "....................................................................................................\n",
            "Epoch: 500, accuracy:0.6826,  binary_crossentropy:0.5670,  loss:0.5670,  val_accuracy:0.6510,  val_binary_crossentropy:0.5884,  val_loss:0.5884,  \n",
            "....................................................................................................\n",
            "Epoch: 600, accuracy:0.6895,  binary_crossentropy:0.5623,  loss:0.5623,  val_accuracy:0.6460,  val_binary_crossentropy:0.5904,  val_loss:0.5904,  \n",
            "........................................................"
          ]
        }
      ]
    },
    {
      "cell_type": "code",
      "source": [
        "# Medium model\n",
        "# now try three hidden layers with 64 units each\n",
        "\n",
        "medium_model = tf.keras.Sequential([\n",
        "    tf.keras.layers.Dense(64, activation = 'elu', input_shape = (FEATURES,)),\n",
        "    tf.keras.layers.Dense(64, activation = 'elu'),\n",
        "    tf.keras.layers.Dense(64, activation = 'elu'),\n",
        "    tf.keras.layers.Dense(1)\n",
        "])"
      ],
      "metadata": {
        "id": "wSsWYxNyp9GG"
      },
      "execution_count": 26,
      "outputs": []
    },
    {
      "cell_type": "code",
      "source": [
        "size_histories['Medium'] = compile_and_fit(medium_model, \"sizes/Medium\")"
      ],
      "metadata": {
        "id": "NbZTFhuuIbwf",
        "outputId": "84a8f20a-f625-4bff-fb39-2cdb351f9d7f",
        "colab": {
          "base_uri": "https://localhost:8080/"
        }
      },
      "execution_count": 27,
      "outputs": [
        {
          "output_type": "stream",
          "name": "stdout",
          "text": [
            "Model: \"sequential_2\"\n",
            "_________________________________________________________________\n",
            " Layer (type)                Output Shape              Param #   \n",
            "=================================================================\n",
            " dense_5 (Dense)             (None, 64)                1856      \n",
            "                                                                 \n",
            " dense_6 (Dense)             (None, 64)                4160      \n",
            "                                                                 \n",
            " dense_7 (Dense)             (None, 64)                4160      \n",
            "                                                                 \n",
            " dense_8 (Dense)             (None, 1)                 65        \n",
            "                                                                 \n",
            "=================================================================\n",
            "Total params: 10241 (40.00 KB)\n",
            "Trainable params: 10241 (40.00 KB)\n",
            "Non-trainable params: 0 (0.00 Byte)\n",
            "_________________________________________________________________\n",
            "\n",
            "Epoch: 0, accuracy:0.5085,  binary_crossentropy:0.6931,  loss:0.6931,  val_accuracy:0.4730,  val_binary_crossentropy:0.6823,  val_loss:0.6823,  \n",
            "....................................................................................................\n",
            "Epoch: 100, accuracy:0.7115,  binary_crossentropy:0.5399,  loss:0.5399,  val_accuracy:0.6580,  val_binary_crossentropy:0.6066,  val_loss:0.6066,  \n",
            "....................................................................................................\n",
            "Epoch: 200, accuracy:0.7735,  binary_crossentropy:0.4453,  loss:0.4453,  val_accuracy:0.6270,  val_binary_crossentropy:0.6940,  val_loss:0.6940,  \n",
            ".............................................................."
          ]
        }
      ]
    },
    {
      "cell_type": "code",
      "source": [
        "# Large Model\n",
        "large_model = tf.keras.Sequential([\n",
        "    tf.keras.layers.Dense(512, activation = 'elu', input_shape = (FEATURES, )),\n",
        "    tf.keras.layers.Dense(512, activation = 'elu'),\n",
        "    tf.keras.layers.Dense(512, activation = 'elu'),\n",
        "    tf.keras.layers.Dense(512, activation = 'elu'),\n",
        "    tf.keras.layers.Dense(1)\n",
        "])"
      ],
      "metadata": {
        "id": "HYhqyGkqIrBc"
      },
      "execution_count": 28,
      "outputs": []
    },
    {
      "cell_type": "code",
      "source": [
        "size_histories['large'] = compile_and_fit(large_model, 'sizes/large')"
      ],
      "metadata": {
        "id": "wt4GkzwqMVmf",
        "outputId": "8fa7acd4-e91b-4612-c868-bf5235fd1c23",
        "colab": {
          "base_uri": "https://localhost:8080/"
        }
      },
      "execution_count": 29,
      "outputs": [
        {
          "output_type": "stream",
          "name": "stdout",
          "text": [
            "Model: \"sequential_3\"\n",
            "_________________________________________________________________\n",
            " Layer (type)                Output Shape              Param #   \n",
            "=================================================================\n",
            " dense_9 (Dense)             (None, 512)               14848     \n",
            "                                                                 \n",
            " dense_10 (Dense)            (None, 512)               262656    \n",
            "                                                                 \n",
            " dense_11 (Dense)            (None, 512)               262656    \n",
            "                                                                 \n",
            " dense_12 (Dense)            (None, 512)               262656    \n",
            "                                                                 \n",
            " dense_13 (Dense)            (None, 1)                 513       \n",
            "                                                                 \n",
            "=================================================================\n",
            "Total params: 803329 (3.06 MB)\n",
            "Trainable params: 803329 (3.06 MB)\n",
            "Non-trainable params: 0 (0.00 Byte)\n",
            "_________________________________________________________________\n",
            "\n",
            "Epoch: 0, accuracy:0.5063,  binary_crossentropy:0.7734,  loss:0.7734,  val_accuracy:0.4910,  val_binary_crossentropy:0.6847,  val_loss:0.6847,  \n",
            "....................................................................................................\n",
            "Epoch: 100, accuracy:1.0000,  binary_crossentropy:0.0020,  loss:0.0020,  val_accuracy:0.6420,  val_binary_crossentropy:1.8911,  val_loss:1.8911,  \n",
            "....................................................................................................\n",
            "Epoch: 200, accuracy:1.0000,  binary_crossentropy:0.0001,  loss:0.0001,  val_accuracy:0.6400,  val_binary_crossentropy:2.5697,  val_loss:2.5697,  \n",
            "................"
          ]
        }
      ]
    },
    {
      "cell_type": "code",
      "source": [],
      "metadata": {
        "id": "sD8yBQbeMgFh"
      },
      "execution_count": null,
      "outputs": []
    }
  ]
}