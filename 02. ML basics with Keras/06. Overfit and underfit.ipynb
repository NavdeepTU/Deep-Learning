{
  "nbformat": 4,
  "nbformat_minor": 0,
  "metadata": {
    "colab": {
      "provenance": [],
      "authorship_tag": "ABX9TyPlnvslfChuAkztHn0LsYce",
      "include_colab_link": true
    },
    "kernelspec": {
      "name": "python3",
      "display_name": "Python 3"
    },
    "language_info": {
      "name": "python"
    }
  },
  "cells": [
    {
      "cell_type": "markdown",
      "metadata": {
        "id": "view-in-github",
        "colab_type": "text"
      },
      "source": [
        "<a href=\"https://colab.research.google.com/github/NavdeepTU/Deep-Learning/blob/main/02.%20ML%20basics%20with%20Keras/06.%20Overfit%20and%20underfit.ipynb\" target=\"_parent\"><img src=\"https://colab.research.google.com/assets/colab-badge.svg\" alt=\"Open In Colab\"/></a>"
      ]
    },
    {
      "cell_type": "code",
      "source": [
        "!pip install git+https://github.com/tensorflow/docs"
      ],
      "metadata": {
        "colab": {
          "base_uri": "https://localhost:8080/"
        },
        "id": "CkucmffIYuUi",
        "outputId": "e1d83261-4954-45d5-e240-b95ea66564ce"
      },
      "execution_count": 1,
      "outputs": [
        {
          "output_type": "stream",
          "name": "stdout",
          "text": [
            "Collecting git+https://github.com/tensorflow/docs\n",
            "  Cloning https://github.com/tensorflow/docs to /tmp/pip-req-build-ezggfbb8\n",
            "  Running command git clone --filter=blob:none --quiet https://github.com/tensorflow/docs /tmp/pip-req-build-ezggfbb8\n",
            "  Resolved https://github.com/tensorflow/docs to commit 03190f3b6f327a1dbaba9a712bdf102616010cfc\n",
            "  Preparing metadata (setup.py) ... \u001b[?25l\u001b[?25hdone\n",
            "Collecting astor (from tensorflow-docs==2023.10.27.81990)\n",
            "  Downloading astor-0.8.1-py2.py3-none-any.whl (27 kB)\n",
            "Requirement already satisfied: absl-py in /usr/local/lib/python3.10/dist-packages (from tensorflow-docs==2023.10.27.81990) (1.4.0)\n",
            "Requirement already satisfied: jinja2 in /usr/local/lib/python3.10/dist-packages (from tensorflow-docs==2023.10.27.81990) (3.1.2)\n",
            "Requirement already satisfied: nbformat in /usr/local/lib/python3.10/dist-packages (from tensorflow-docs==2023.10.27.81990) (5.9.2)\n",
            "Requirement already satisfied: protobuf>=3.12 in /usr/local/lib/python3.10/dist-packages (from tensorflow-docs==2023.10.27.81990) (3.20.3)\n",
            "Requirement already satisfied: pyyaml in /usr/local/lib/python3.10/dist-packages (from tensorflow-docs==2023.10.27.81990) (6.0.1)\n",
            "Requirement already satisfied: MarkupSafe>=2.0 in /usr/local/lib/python3.10/dist-packages (from jinja2->tensorflow-docs==2023.10.27.81990) (2.1.3)\n",
            "Requirement already satisfied: fastjsonschema in /usr/local/lib/python3.10/dist-packages (from nbformat->tensorflow-docs==2023.10.27.81990) (2.19.0)\n",
            "Requirement already satisfied: jsonschema>=2.6 in /usr/local/lib/python3.10/dist-packages (from nbformat->tensorflow-docs==2023.10.27.81990) (4.19.2)\n",
            "Requirement already satisfied: jupyter-core in /usr/local/lib/python3.10/dist-packages (from nbformat->tensorflow-docs==2023.10.27.81990) (5.5.0)\n",
            "Requirement already satisfied: traitlets>=5.1 in /usr/local/lib/python3.10/dist-packages (from nbformat->tensorflow-docs==2023.10.27.81990) (5.7.1)\n",
            "Requirement already satisfied: attrs>=22.2.0 in /usr/local/lib/python3.10/dist-packages (from jsonschema>=2.6->nbformat->tensorflow-docs==2023.10.27.81990) (23.1.0)\n",
            "Requirement already satisfied: jsonschema-specifications>=2023.03.6 in /usr/local/lib/python3.10/dist-packages (from jsonschema>=2.6->nbformat->tensorflow-docs==2023.10.27.81990) (2023.11.2)\n",
            "Requirement already satisfied: referencing>=0.28.4 in /usr/local/lib/python3.10/dist-packages (from jsonschema>=2.6->nbformat->tensorflow-docs==2023.10.27.81990) (0.31.1)\n",
            "Requirement already satisfied: rpds-py>=0.7.1 in /usr/local/lib/python3.10/dist-packages (from jsonschema>=2.6->nbformat->tensorflow-docs==2023.10.27.81990) (0.13.2)\n",
            "Requirement already satisfied: platformdirs>=2.5 in /usr/local/lib/python3.10/dist-packages (from jupyter-core->nbformat->tensorflow-docs==2023.10.27.81990) (4.0.0)\n",
            "Building wheels for collected packages: tensorflow-docs\n",
            "  Building wheel for tensorflow-docs (setup.py) ... \u001b[?25l\u001b[?25hdone\n",
            "  Created wheel for tensorflow-docs: filename=tensorflow_docs-2023.10.27.81990-py3-none-any.whl size=184142 sha256=035d8817ba0a1964bd82bc3e78e0aa4b3b0ed49f28432faa0f049372454a030b\n",
            "  Stored in directory: /tmp/pip-ephem-wheel-cache-fhulwrsa/wheels/86/0f/1e/3b62293c8ffd0fd5a49508e6871cdb7554abe9c62afd35ec53\n",
            "Successfully built tensorflow-docs\n",
            "Installing collected packages: astor, tensorflow-docs\n",
            "Successfully installed astor-0.8.1 tensorflow-docs-2023.10.27.81990\n"
          ]
        }
      ]
    },
    {
      "cell_type": "code",
      "source": [
        "import tensorflow as tf\n",
        "import tensorflow_docs as tfdocs\n",
        "import tensorflow_docs.modeling\n",
        "import tensorflow_docs.plots\n",
        "from IPython import display\n",
        "from matplotlib import pyplot as plt\n",
        "import numpy as np\n",
        "import pathlib\n",
        "import shutil\n",
        "import tempfile"
      ],
      "metadata": {
        "id": "x7olFy2YY-xH"
      },
      "execution_count": 2,
      "outputs": []
    },
    {
      "cell_type": "code",
      "source": [
        "logdir = pathlib.Path(tempfile.mkdtemp())/\"tensorboard_logs\"\n",
        "shutil.rmtree(logdir, ignore_errors = True)"
      ],
      "metadata": {
        "id": "AKFfCivjX073"
      },
      "execution_count": 3,
      "outputs": []
    },
    {
      "cell_type": "code",
      "source": [
        "gz = tf.keras.utils.get_file('HIGGS.csv.gz', 'http://mlphysics.ics.uci.edu/data/higgs/HIGGS.csv.gz')"
      ],
      "metadata": {
        "colab": {
          "base_uri": "https://localhost:8080/"
        },
        "id": "Qhkn23OfZg7O",
        "outputId": "e81aed0b-2247-4551-a275-968ea775c692"
      },
      "execution_count": 4,
      "outputs": [
        {
          "output_type": "stream",
          "name": "stdout",
          "text": [
            "Downloading data from http://mlphysics.ics.uci.edu/data/higgs/HIGGS.csv.gz\n",
            "2816407858/2816407858 [==============================] - 481s 0us/step\n"
          ]
        }
      ]
    },
    {
      "cell_type": "code",
      "source": [
        "FEATURES = 28"
      ],
      "metadata": {
        "id": "xBoTvW33bprV"
      },
      "execution_count": 5,
      "outputs": []
    },
    {
      "cell_type": "code",
      "source": [
        "ds = tf.data.experimental.CsvDataset(gz, [float(),] * (FEATURES + 1), compression_type = \"GZIP\")"
      ],
      "metadata": {
        "id": "vM8Ub84mb5Sx"
      },
      "execution_count": 6,
      "outputs": []
    },
    {
      "cell_type": "code",
      "source": [
        "def pack_row(*row):\n",
        "  label = row[0]\n",
        "  features = tf.stack(row[1:], 1)\n",
        "  return features, label"
      ],
      "metadata": {
        "id": "TTsC8r7FcluT"
      },
      "execution_count": 7,
      "outputs": []
    },
    {
      "cell_type": "code",
      "source": [
        "packed_ds = ds.batch(10000).map(pack_row).unbatch()"
      ],
      "metadata": {
        "id": "06F2vIPtdI7E"
      },
      "execution_count": 8,
      "outputs": []
    },
    {
      "cell_type": "code",
      "source": [
        "# Inspect some of the records from this new packed_ds\n",
        "for features, label in packed_ds.batch(1000).take(1):\n",
        "  print(features[0])\n",
        "  plt.hist(features.numpy().flatten(), bins = 101)"
      ],
      "metadata": {
        "colab": {
          "base_uri": "https://localhost:8080/",
          "height": 538
        },
        "id": "Xix2gRaLdflP",
        "outputId": "7974c375-5bbd-48cd-b300-874722aaa58b"
      },
      "execution_count": 9,
      "outputs": [
        {
          "output_type": "stream",
          "name": "stdout",
          "text": [
            "tf.Tensor(\n",
            "[ 0.8692932  -0.6350818   0.22569026  0.32747006 -0.6899932   0.75420225\n",
            " -0.24857314 -1.0920639   0.          1.3749921  -0.6536742   0.9303491\n",
            "  1.1074361   1.1389043  -1.5781983  -1.0469854   0.          0.65792954\n",
            " -0.01045457 -0.04576717  3.1019614   1.35376     0.9795631   0.97807616\n",
            "  0.92000484  0.72165745  0.98875093  0.87667835], shape=(28,), dtype=float32)\n"
          ]
        },
        {
          "output_type": "display_data",
          "data": {
            "text/plain": [
              "<Figure size 640x480 with 1 Axes>"
            ],
            "image/png": "[encoded data removed]"
          },
          "metadata": {}
        }
      ]
    },
    {
      "cell_type": "code",
      "source": [
        "# to keep this tutorial short, use just the first 1,000 samples for validation, and the next 10,000 for training\n",
        "N_VALIDATION = int(1e3)\n",
        "N_TRAIN = int(1e4)\n",
        "BUFFER_SIZE = int(1e4)\n",
        "BATCH_SIZE = 500\n",
        "STEPS_PER_EPOCH = N_TRAIN // BATCH_SIZE"
      ],
      "metadata": {
        "id": "47gSS5KCeAbt"
      },
      "execution_count": 10,
      "outputs": []
    },
    {
      "cell_type": "code",
      "source": [
        "# use the Dataset.cache method to ensure that the loader doesn't need to re-read\n",
        "# the data from the file on each epoch\n",
        "\n",
        "validate_ds = packed_ds.take(N_VALIDATION).cache()\n",
        "train_ds = packed_ds.skip(N_VALIDATION).take(N_TRAIN).cache()"
      ],
      "metadata": {
        "id": "14UyBgC_4z-r"
      },
      "execution_count": 11,
      "outputs": []
    },
    {
      "cell_type": "code",
      "source": [
        "train_ds"
      ],
      "metadata": {
        "id": "Y5PBa_Gt51N0",
        "outputId": "87acaa66-9c35-42b7-fee1-28a84718b17a",
        "colab": {
          "base_uri": "https://localhost:8080/"
        }
      },
      "execution_count": 12,
      "outputs": [
        {
          "output_type": "execute_result",
          "data": {
            "text/plain": [
              "<CacheDataset element_spec=(TensorSpec(shape=(28,), dtype=tf.float32, name=None), TensorSpec(shape=(), dtype=tf.float32, name=None))>"
            ]
          },
          "metadata": {},
          "execution_count": 12
        }
      ]
    },
    {
      "cell_type": "code",
      "source": [
        "validate_ds = validate_ds.batch(BATCH_SIZE)\n",
        "train_ds = train_ds.shuffle(BUFFER_SIZE).repeat().batch(BATCH_SIZE)"
      ],
      "metadata": {
        "id": "CDfNEoJX54Zk"
      },
      "execution_count": 13,
      "outputs": []
    },
    {
      "cell_type": "code",
      "source": [
        "# Demonstrate overfitting\n",
        "# many models train better if you gradually reduce the learning rate during training.\n",
        "\n",
        "lr_schedule = tf.keras.optimizers.schedules.InverseTimeDecay(\n",
        "    0.001,\n",
        "    decay_steps = STEPS_PER_EPOCH * 1000,\n",
        "    decay_rate = 1,\n",
        "    staircase = False\n",
        ")\n",
        "\n",
        "def get_optimizer():\n",
        "  return tf.keras.optimizers.Adam(lr_schedule)"
      ],
      "metadata": {
        "id": "epGKE3xY6rwp"
      },
      "execution_count": 14,
      "outputs": []
    },
    {
      "cell_type": "code",
      "source": [
        "step = np.linspace(0, 100000)\n",
        "lr = lr_schedule(step)\n",
        "plt.figure(figsize = (8, 6))\n",
        "plt.plot(step/STEPS_PER_EPOCH, lr)\n",
        "plt.ylim([0, max(plt.ylim())])\n",
        "plt.xlabel('Epoch')\n",
        "plt.ylabel('Learning Rate')"
      ],
      "metadata": {
        "id": "vdRtwE4b9Ud7",
        "outputId": "588759e2-2571-4277-fa16-b78a2a15792c",
        "colab": {
          "base_uri": "https://localhost:8080/",
          "height": 560
        }
      },
      "execution_count": 15,
      "outputs": [
        {
          "output_type": "execute_result",
          "data": {
            "text/plain": [
              "Text(0, 0.5, 'Learning Rate')"
            ]
          },
          "metadata": {},
          "execution_count": 15
        },
        {
          "output_type": "display_data",
          "data": {
            "text/plain": [
              "<Figure size 800x600 with 1 Axes>"
            ],
            "image/png": "[encoded data removed]"
          },
          "metadata": {}
        }
      ]
    },
    {
      "cell_type": "code",
      "source": [
        "# each model in this tutorial will use the same training configuration. So set this up\n",
        "# in a reusable way, starting with the list of callbacks.\n",
        "\n",
        "def get_callbacks(name):\n",
        "  return [\n",
        "      tensorflow_docs.modeling.EpochDots(),\n",
        "      tf.keras.callbacks.EarlyStopping(monitor = 'val_binary_crossentropy', patience = 200),\n",
        "      tf.keras.callbacks.TensorBoard(logdir/name),\n",
        "  ]"
      ],
      "metadata": {
        "id": "FoerHx3--GqO"
      },
      "execution_count": 16,
      "outputs": []
    },
    {
      "cell_type": "code",
      "source": [
        "# similarly each model will use the same Model.compile and Model.fit settings\n",
        "\n",
        "def compile_and_fit(model, name, optimizer = None, max_epochs = 10000):\n",
        "\n",
        "  if optimizer is None:\n",
        "    optimizer = get_optimizer()\n",
        "\n",
        "  model.compile(\n",
        "      optimizer = optimizer,\n",
        "      loss = tf.keras.losses.BinaryCrossentropy(from_logits = True),\n",
        "      metrics = [tf.keras.metrics.BinaryCrossentropy(from_logits = True, name = 'binary_crossentropy'), 'accuracy']\n",
        "  )\n",
        "\n",
        "  model.summary()\n",
        "\n",
        "  history = model.fit(\n",
        "      train_ds,\n",
        "      steps_per_epoch = STEPS_PER_EPOCH,\n",
        "      epochs = max_epochs,\n",
        "      validation_data = validate_ds,\n",
        "      callbacks = get_callbacks(name),\n",
        "      verbose = 0\n",
        "  )\n",
        "\n",
        "  return history"
      ],
      "metadata": {
        "id": "oQw60QZhAIjA"
      },
      "execution_count": 17,
      "outputs": []
    },
    {
      "cell_type": "code",
      "source": [
        "# Tiny Model\n",
        "tiny_model = tf.keras.Sequential([\n",
        "    tf.keras.layers.Dense(16, activation = 'elu', input_shape=(FEATURES,)),\n",
        "    tf.keras.layers.Dense(1)\n",
        "])"
      ],
      "metadata": {
        "id": "fE6ykDAsCusR"
      },
      "execution_count": 18,
      "outputs": []
    },
    {
      "cell_type": "code",
      "source": [
        "size_histories = {}"
      ],
      "metadata": {
        "id": "VdConjrTDfcj"
      },
      "execution_count": 19,
      "outputs": []
    },
    {
      "cell_type": "code",
      "source": [
        "size_histories['Tiny'] = compile_and_fit(tiny_model, 'sizes/Tiny')"
      ],
      "metadata": {
        "id": "RqiYPCEADmu2",
        "outputId": "b3332044-bf3c-4092-cf94-930a82d6074a",
        "colab": {
          "base_uri": "https://localhost:8080/"
        }
      },
      "execution_count": 20,
      "outputs": [
        {
          "output_type": "stream",
          "name": "stdout",
          "text": [
            "Model: \"sequential\"\n",
            "_________________________________________________________________\n",
            " Layer (type)                Output Shape              Param #   \n",
            "=================================================================\n",
            " dense (Dense)               (None, 16)                464       \n",
            "                                                                 \n",
            " dense_1 (Dense)             (None, 1)                 17        \n",
            "                                                                 \n",
            "=================================================================\n",
            "Total params: 481 (1.88 KB)\n",
            "Trainable params: 481 (1.88 KB)\n",
            "Non-trainable params: 0 (0.00 Byte)\n",
            "_________________________________________________________________\n",
            "\n",
            "Epoch: 0, accuracy:0.4977,  binary_crossentropy:0.7964,  loss:0.7964,  val_accuracy:0.4890,  val_binary_crossentropy:0.7686,  val_loss:0.7686,  \n",
            "....................................................................................................\n",
            "Epoch: 100, accuracy:0.5894,  binary_crossentropy:0.6284,  loss:0.6284,  val_accuracy:0.5750,  val_binary_crossentropy:0.6324,  val_loss:0.6324,  \n",
            "....................................................................................................\n",
            "Epoch: 200, accuracy:0.6047,  binary_crossentropy:0.6209,  loss:0.6209,  val_accuracy:0.5820,  val_binary_crossentropy:0.6239,  val_loss:0.6239,  \n",
            "....................................................................................................\n",
            "Epoch: 300, accuracy:0.6176,  binary_crossentropy:0.6169,  loss:0.6169,  val_accuracy:0.5900,  val_binary_crossentropy:0.6205,  val_loss:0.6205,  \n",
            "....................................................................................................\n",
            "Epoch: 400, accuracy:0.6230,  binary_crossentropy:0.6125,  loss:0.6125,  val_accuracy:0.6050,  val_binary_crossentropy:0.6157,  val_loss:0.6157,  \n",
            "....................................................................................................\n",
            "Epoch: 500, accuracy:0.6264,  binary_crossentropy:0.6100,  loss:0.6100,  val_accuracy:0.6070,  val_binary_crossentropy:0.6133,  val_loss:0.6133,  \n",
            "....................................................................................................\n",
            "Epoch: 600, accuracy:0.6254,  binary_crossentropy:0.6072,  loss:0.6072,  val_accuracy:0.6080,  val_binary_crossentropy:0.6102,  val_loss:0.6102,  \n",
            "....................................................................................................\n",
            "Epoch: 700, accuracy:0.6290,  binary_crossentropy:0.6055,  loss:0.6055,  val_accuracy:0.6170,  val_binary_crossentropy:0.6099,  val_loss:0.6099,  \n",
            "....................................................................................................\n",
            "Epoch: 800, accuracy:0.6347,  binary_crossentropy:0.6026,  loss:0.6026,  val_accuracy:0.6150,  val_binary_crossentropy:0.6090,  val_loss:0.6090,  \n",
            "....................................................................................................\n",
            "Epoch: 900, accuracy:0.6381,  binary_crossentropy:0.6008,  loss:0.6008,  val_accuracy:0.6170,  val_binary_crossentropy:0.6056,  val_loss:0.6056,  \n",
            "....................................................................................................\n",
            "Epoch: 1000, accuracy:0.6406,  binary_crossentropy:0.5988,  loss:0.5988,  val_accuracy:0.6190,  val_binary_crossentropy:0.6032,  val_loss:0.6032,  \n",
            "....................................................................................................\n",
            "Epoch: 1100, accuracy:0.6395,  binary_crossentropy:0.5967,  loss:0.5967,  val_accuracy:0.6200,  val_binary_crossentropy:0.6014,  val_loss:0.6014,  \n",
            "....................................................................................................\n",
            "Epoch: 1200, accuracy:0.6498,  binary_crossentropy:0.5946,  loss:0.5946,  val_accuracy:0.6160,  val_binary_crossentropy:0.6037,  val_loss:0.6037,  \n",
            "....................................................................................................\n",
            "Epoch: 1300, accuracy:0.6513,  binary_crossentropy:0.5929,  loss:0.5929,  val_accuracy:0.6310,  val_binary_crossentropy:0.5975,  val_loss:0.5975,  \n",
            "....................................................................................................\n",
            "Epoch: 1400, accuracy:0.6503,  binary_crossentropy:0.5905,  loss:0.5905,  val_accuracy:0.6380,  val_binary_crossentropy:0.5958,  val_loss:0.5958,  \n",
            "....................................................................................................\n",
            "Epoch: 1500, accuracy:0.6524,  binary_crossentropy:0.5882,  loss:0.5882,  val_accuracy:0.6300,  val_binary_crossentropy:0.5953,  val_loss:0.5953,  \n",
            "....................................................................................................\n",
            "Epoch: 1600, accuracy:0.6549,  binary_crossentropy:0.5870,  loss:0.5870,  val_accuracy:0.6400,  val_binary_crossentropy:0.5934,  val_loss:0.5934,  \n",
            "....................................................................................................\n",
            "Epoch: 1700, accuracy:0.6607,  binary_crossentropy:0.5855,  loss:0.5855,  val_accuracy:0.6220,  val_binary_crossentropy:0.5954,  val_loss:0.5954,  \n",
            "....................................................................................................\n",
            "Epoch: 1800, accuracy:0.6579,  binary_crossentropy:0.5843,  loss:0.5843,  val_accuracy:0.6280,  val_binary_crossentropy:0.5935,  val_loss:0.5935,  \n",
            "....................................................................................................\n",
            "Epoch: 1900, accuracy:0.6589,  binary_crossentropy:0.5826,  loss:0.5826,  val_accuracy:0.6450,  val_binary_crossentropy:0.5912,  val_loss:0.5912,  \n",
            "....................................................................................................\n",
            "Epoch: 2000, accuracy:0.6578,  binary_crossentropy:0.5813,  loss:0.5813,  val_accuracy:0.6400,  val_binary_crossentropy:0.5911,  val_loss:0.5911,  \n",
            "....................................................................................................\n",
            "Epoch: 2100, accuracy:0.6615,  binary_crossentropy:0.5803,  loss:0.5803,  val_accuracy:0.6570,  val_binary_crossentropy:0.5897,  val_loss:0.5897,  \n",
            "....................................................................................................\n",
            "Epoch: 2200, accuracy:0.6627,  binary_crossentropy:0.5793,  loss:0.5793,  val_accuracy:0.6430,  val_binary_crossentropy:0.5902,  val_loss:0.5902,  \n",
            "....................................................................................................\n",
            "Epoch: 2300, accuracy:0.6661,  binary_crossentropy:0.5783,  loss:0.5783,  val_accuracy:0.6540,  val_binary_crossentropy:0.5894,  val_loss:0.5894,  \n",
            "....................................................................................................\n",
            "Epoch: 2400, accuracy:0.6632,  binary_crossentropy:0.5775,  loss:0.5775,  val_accuracy:0.6580,  val_binary_crossentropy:0.5891,  val_loss:0.5891,  \n",
            "....................................................................................................\n",
            "Epoch: 2500, accuracy:0.6665,  binary_crossentropy:0.5767,  loss:0.5767,  val_accuracy:0.6560,  val_binary_crossentropy:0.5886,  val_loss:0.5886,  \n",
            "....................................................................................................\n",
            "Epoch: 2600, accuracy:0.6685,  binary_crossentropy:0.5759,  loss:0.5759,  val_accuracy:0.6600,  val_binary_crossentropy:0.5879,  val_loss:0.5879,  \n",
            "....................................................................................................\n",
            "Epoch: 2700, accuracy:0.6693,  binary_crossentropy:0.5752,  loss:0.5752,  val_accuracy:0.6560,  val_binary_crossentropy:0.5878,  val_loss:0.5878,  \n",
            "....................................................................................................\n",
            "Epoch: 2800, accuracy:0.6696,  binary_crossentropy:0.5745,  loss:0.5745,  val_accuracy:0.6500,  val_binary_crossentropy:0.5879,  val_loss:0.5879,  \n",
            "....................................................................................................\n",
            "Epoch: 2900, accuracy:0.6681,  binary_crossentropy:0.5741,  loss:0.5741,  val_accuracy:0.6630,  val_binary_crossentropy:0.5866,  val_loss:0.5866,  \n",
            "....................................................................................................\n",
            "Epoch: 3000, accuracy:0.6789,  binary_crossentropy:0.5735,  loss:0.5735,  val_accuracy:0.6400,  val_binary_crossentropy:0.5895,  val_loss:0.5895,  \n",
            "....................................................................................................\n",
            "Epoch: 3100, accuracy:0.6778,  binary_crossentropy:0.5728,  loss:0.5728,  val_accuracy:0.6500,  val_binary_crossentropy:0.5872,  val_loss:0.5872,  \n",
            "....................................................................................................\n",
            "Epoch: 3200, accuracy:0.6751,  binary_crossentropy:0.5723,  loss:0.5723,  val_accuracy:0.6580,  val_binary_crossentropy:0.5856,  val_loss:0.5856,  \n",
            "....................................................................................................\n",
            "Epoch: 3300, accuracy:0.6767,  binary_crossentropy:0.5718,  loss:0.5718,  val_accuracy:0.6550,  val_binary_crossentropy:0.5862,  val_loss:0.5862,  \n",
            "....................................................................................................\n",
            "Epoch: 3400, accuracy:0.6747,  binary_crossentropy:0.5714,  loss:0.5714,  val_accuracy:0.6580,  val_binary_crossentropy:0.5853,  val_loss:0.5853,  \n",
            "....................................................................................................\n",
            "Epoch: 3500, accuracy:0.6795,  binary_crossentropy:0.5710,  loss:0.5710,  val_accuracy:0.6530,  val_binary_crossentropy:0.5859,  val_loss:0.5859,  \n",
            "....................................................................................................\n",
            "Epoch: 3600, accuracy:0.6816,  binary_crossentropy:0.5708,  loss:0.5708,  val_accuracy:0.6520,  val_binary_crossentropy:0.5857,  val_loss:0.5857,  \n",
            "....................................................................................................\n",
            "Epoch: 3700, accuracy:0.6820,  binary_crossentropy:0.5706,  loss:0.5706,  val_accuracy:0.6530,  val_binary_crossentropy:0.5853,  val_loss:0.5853,  \n",
            "....................................................................................................\n",
            "Epoch: 3800, accuracy:0.6799,  binary_crossentropy:0.5701,  loss:0.5701,  val_accuracy:0.6530,  val_binary_crossentropy:0.5848,  val_loss:0.5848,  \n",
            "....................................................................................................\n",
            "Epoch: 3900, accuracy:0.6808,  binary_crossentropy:0.5699,  loss:0.5699,  val_accuracy:0.6490,  val_binary_crossentropy:0.5850,  val_loss:0.5850,  \n",
            "....................................................................................................\n",
            "Epoch: 4000, accuracy:0.6819,  binary_crossentropy:0.5695,  loss:0.5695,  val_accuracy:0.6520,  val_binary_crossentropy:0.5846,  val_loss:0.5846,  \n",
            "....................................................................................................\n",
            "Epoch: 4100, accuracy:0.6805,  binary_crossentropy:0.5692,  loss:0.5692,  val_accuracy:0.6500,  val_binary_crossentropy:0.5843,  val_loss:0.5843,  \n",
            "....................................................................................................\n",
            "Epoch: 4200, accuracy:0.6786,  binary_crossentropy:0.5688,  loss:0.5688,  val_accuracy:0.6520,  val_binary_crossentropy:0.5840,  val_loss:0.5840,  \n",
            "....................................................................................................\n",
            "Epoch: 4300, accuracy:0.6822,  binary_crossentropy:0.5687,  loss:0.5687,  val_accuracy:0.6480,  val_binary_crossentropy:0.5846,  val_loss:0.5846,  \n",
            "....................................................................................................\n",
            "Epoch: 4400, accuracy:0.6769,  binary_crossentropy:0.5685,  loss:0.5685,  val_accuracy:0.6560,  val_binary_crossentropy:0.5843,  val_loss:0.5843,  \n",
            "....................................................................................................\n",
            "Epoch: 4500, accuracy:0.6831,  binary_crossentropy:0.5681,  loss:0.5681,  val_accuracy:0.6450,  val_binary_crossentropy:0.5844,  val_loss:0.5844,  \n",
            "....................................................................................................\n",
            "Epoch: 4600, accuracy:0.6825,  binary_crossentropy:0.5679,  loss:0.5679,  val_accuracy:0.6530,  val_binary_crossentropy:0.5843,  val_loss:0.5843,  \n",
            "........"
          ]
        }
      ]
    },
    {
      "cell_type": "code",
      "source": [
        "# now check how the model did\n",
        "\n",
        "plotter = tensorflow_docs.plots.HistoryPlotter(metric = 'binary_crossentropy', smoothing_std = 10)\n",
        "plotter.plot(size_histories)\n",
        "plt.ylim([0.5, 0.7])"
      ],
      "metadata": {
        "id": "_K7Q2RZTD0Q8",
        "outputId": "eb48d2a6-72c6-4148-ecef-670a5399b879",
        "colab": {
          "base_uri": "https://localhost:8080/",
          "height": 473
        }
      },
      "execution_count": 21,
      "outputs": [
        {
          "output_type": "execute_result",
          "data": {
            "text/plain": [
              "(0.5, 0.7)"
            ]
          },
          "metadata": {},
          "execution_count": 21
        },
        {
          "output_type": "display_data",
          "data": {
            "text/plain": [
              "<Figure size 640x480 with 1 Axes>"
            ],
            "image/png": "[encoded data removed]"
          },
          "metadata": {}
        }
      ]
    },
    {
      "cell_type": "code",
      "source": [
        "# Small Model\n",
        "# try 2 hidden layers with 16 units each\n",
        "\n",
        "small_model = tf.keras.Sequential([\n",
        "    # input_shape is only required here so that '.summary' works\n",
        "    tf.keras.layers.Dense(16, activation = 'elu', input_shape = (FEATURES,)),\n",
        "    tf.keras.layers.Dense(16, activation = 'elu'),\n",
        "    tf.keras.layers.Dense(1)\n",
        "])"
      ],
      "metadata": {
        "id": "mvYYyxEfGM4k"
      },
      "execution_count": 22,
      "outputs": []
    },
    {
      "cell_type": "code",
      "source": [
        "size_histories['Small'] = compile_and_fit(small_model, 'sizes/Small')"
      ],
      "metadata": {
        "id": "kL-WRSNYpolL",
        "outputId": "2ba22251-a6f5-446f-c79c-41965cfed1ab",
        "colab": {
          "base_uri": "https://localhost:8080/"
        }
      },
      "execution_count": 23,
      "outputs": [
        {
          "output_type": "stream",
          "name": "stdout",
          "text": [
            "Model: \"sequential_1\"\n",
            "_________________________________________________________________\n",
            " Layer (type)                Output Shape              Param #   \n",
            "=================================================================\n",
            " dense_2 (Dense)             (None, 16)                464       \n",
            "                                                                 \n",
            " dense_3 (Dense)             (None, 16)                272       \n",
            "                                                                 \n",
            " dense_4 (Dense)             (None, 1)                 17        \n",
            "                                                                 \n",
            "=================================================================\n",
            "Total params: 753 (2.94 KB)\n",
            "Trainable params: 753 (2.94 KB)\n",
            "Non-trainable params: 0 (0.00 Byte)\n",
            "_________________________________________________________________\n",
            "\n",
            "Epoch: 0, accuracy:0.4833,  binary_crossentropy:0.8232,  loss:0.8232,  val_accuracy:0.4730,  val_binary_crossentropy:0.7728,  val_loss:0.7728,  \n",
            "....................................................................................................\n",
            "Epoch: 100, accuracy:0.6118,  binary_crossentropy:0.6185,  loss:0.6185,  val_accuracy:0.5970,  val_binary_crossentropy:0.6211,  val_loss:0.6211,  \n",
            "....................................................................................................\n",
            "Epoch: 200, accuracy:0.6423,  binary_crossentropy:0.6018,  loss:0.6018,  val_accuracy:0.6240,  val_binary_crossentropy:0.6076,  val_loss:0.6076,  \n",
            "....................................................................................................\n",
            "Epoch: 300, accuracy:0.6708,  binary_crossentropy:0.5866,  loss:0.5866,  val_accuracy:0.6490,  val_binary_crossentropy:0.5875,  val_loss:0.5875,  \n",
            "....................................................................................................\n",
            "Epoch: 400, accuracy:0.6803,  binary_crossentropy:0.5748,  loss:0.5748,  val_accuracy:0.6600,  val_binary_crossentropy:0.5819,  val_loss:0.5819,  \n",
            "....................................................................................................\n",
            "Epoch: 500, accuracy:0.6854,  binary_crossentropy:0.5700,  loss:0.5700,  val_accuracy:0.6680,  val_binary_crossentropy:0.5846,  val_loss:0.5846,  \n",
            "....................................................................................................\n",
            "Epoch: 600, accuracy:0.6865,  binary_crossentropy:0.5648,  loss:0.5648,  val_accuracy:0.6850,  val_binary_crossentropy:0.5809,  val_loss:0.5809,  \n",
            "....................................................................................................\n",
            "Epoch: 700, accuracy:0.6891,  binary_crossentropy:0.5617,  loss:0.5617,  val_accuracy:0.6810,  val_binary_crossentropy:0.5794,  val_loss:0.5794,  \n",
            "....................................................................................................\n",
            "Epoch: 800, accuracy:0.6956,  binary_crossentropy:0.5573,  loss:0.5573,  val_accuracy:0.6980,  val_binary_crossentropy:0.5775,  val_loss:0.5775,  \n",
            "....................................................................................................\n",
            "Epoch: 900, accuracy:0.6999,  binary_crossentropy:0.5548,  loss:0.5548,  val_accuracy:0.6820,  val_binary_crossentropy:0.5788,  val_loss:0.5788,  \n",
            "....................................................................................................\n",
            "Epoch: 1000, accuracy:0.7005,  binary_crossentropy:0.5523,  loss:0.5523,  val_accuracy:0.6840,  val_binary_crossentropy:0.5794,  val_loss:0.5794,  \n",
            "............."
          ]
        }
      ]
    },
    {
      "cell_type": "code",
      "source": [],
      "metadata": {
        "id": "wSsWYxNyp9GG"
      },
      "execution_count": null,
      "outputs": []
    }
  ]
}